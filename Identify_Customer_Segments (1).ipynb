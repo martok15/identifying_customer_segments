{
 "cells": [
  {
   "cell_type": "markdown",
   "metadata": {},
   "source": [
    "# Project: Identify Customer Segments\n",
    "\n",
    "In this project, you will apply unsupervised learning techniques to identify segments of the population that form the core customer base for a mail-order sales company in Germany. These segments can then be used to direct marketing campaigns towards audiences that will have the highest expected rate of returns. The data that you will use has been provided by our partners at Bertelsmann Arvato Analytics, and represents a real-life data science task.\n",
    "\n",
    "This notebook will help you complete this task by providing a framework within which you will perform your analysis steps. In each step of the project, you will see some text describing the subtask that you will perform, followed by one or more code cells for you to complete your work. **Feel free to add additional code and markdown cells as you go along so that you can explore everything in precise chunks.** The code cells provided in the base template will outline only the major tasks, and will usually not be enough to cover all of the minor tasks that comprise it.\n",
    "\n",
    "It should be noted that while there will be precise guidelines on how you should handle certain tasks in the project, there will also be places where an exact specification is not provided. **There will be times in the project where you will need to make and justify your own decisions on how to treat the data.** These are places where there may not be only one way to handle the data. In real-life tasks, there may be many valid ways to approach an analysis task. One of the most important things you can do is clearly document your approach so that other scientists can understand the decisions you've made.\n",
    "\n",
    "At the end of most sections, there will be a Markdown cell labeled **Discussion**. In these cells, you will report your findings for the completed section, as well as document the decisions that you made in your approach to each subtask. **Your project will be evaluated not just on the code used to complete the tasks outlined, but also your communication about your observations and conclusions at each stage.**"
   ]
  },
  {
   "cell_type": "code",
   "execution_count": 2,
   "metadata": {},
   "outputs": [
    {
     "name": "stdout",
     "output_type": "stream",
     "text": [
      "Requirement already satisfied: lighteda in /opt/conda/lib/python3.6/site-packages (0.0.6)\r\n"
     ]
    },
    {
     "data": {
      "text/plain": [
       "'\\nImport note: The classroom currently uses sklearn version 0.19.\\nIf you need to use an imputer, it is available in sklearn.preprocessing.Imputer,\\ninstead of sklearn.impute as in newer versions of sklearn.\\n'"
      ]
     },
     "execution_count": 2,
     "metadata": {},
     "output_type": "execute_result"
    }
   ],
   "source": [
    "# import libraries here; add more as necessary\n",
    "import numpy as np\n",
    "import pandas as pd\n",
    "import matplotlib.pyplot as plt\n",
    "import seaborn as sns\n",
    "!pip install lighteda\n",
    "import lighteda\n",
    "from sklearn.preprocessing import Imputer\n",
    "# magic word for producing visualizations in notebook\n",
    "%matplotlib inline\n",
    "\n",
    "'''\n",
    "Import note: The classroom currently uses sklearn version 0.19.\n",
    "If you need to use an imputer, it is available in sklearn.preprocessing.Imputer,\n",
    "instead of sklearn.impute as in newer versions of sklearn.\n",
    "'''"
   ]
  },
  {
   "cell_type": "markdown",
   "metadata": {},
   "source": [
    "### Step 0: Load the Data\n",
    "\n",
    "There are four files associated with this project (not including this one):\n",
    "\n",
    "- `Udacity_AZDIAS_Subset.csv`: Demographics data for the general population of Germany; 891211 persons (rows) x 85 features (columns).\n",
    "- `Udacity_CUSTOMERS_Subset.csv`: Demographics data for customers of a mail-order company; 191652 persons (rows) x 85 features (columns).\n",
    "- `Data_Dictionary.md`: Detailed information file about the features in the provided datasets.\n",
    "- `AZDIAS_Feature_Summary.csv`: Summary of feature attributes for demographics data; 85 features (rows) x 4 columns\n",
    "\n",
    "Each row of the demographics files represents a single person, but also includes information outside of individuals, including information about their household, building, and neighborhood. You will use this information to cluster the general population into groups with similar demographic properties. Then, you will see how the people in the customers dataset fit into those created clusters. The hope here is that certain clusters are over-represented in the customers data, as compared to the general population; those over-represented clusters will be assumed to be part of the core userbase. This information can then be used for further applications, such as targeting for a marketing campaign.\n",
    "\n",
    "To start off with, load in the demographics data for the general population into a pandas DataFrame, and do the same for the feature attributes summary. Note for all of the `.csv` data files in this project: they're semicolon (`;`) delimited, so you'll need an additional argument in your [`read_csv()`](https://pandas.pydata.org/pandas-docs/stable/generated/pandas.read_csv.html) call to read in the data properly. Also, considering the size of the main dataset, it may take some time for it to load completely.\n",
    "\n",
    "Once the dataset is loaded, it's recommended that you take a little bit of time just browsing the general structure of the dataset and feature summary file. You'll be getting deep into the innards of the cleaning in the first major step of the project, so gaining some general familiarity can help you get your bearings."
   ]
  },
  {
   "cell_type": "code",
   "execution_count": 3,
   "metadata": {},
   "outputs": [],
   "source": [
    "# Load in the general demographics data.\n",
    "azdias = pd.read_csv('Udacity_AZDIAS_Subset.csv',';')\n",
    "\n",
    "# Load in the feature summary file.\n",
    "feat_info = pd.read_csv('AZDIAS_Feature_Summary.csv',';')"
   ]
  },
  {
   "cell_type": "code",
   "execution_count": 4,
   "metadata": {},
   "outputs": [
    {
     "data": {
      "text/html": [
       "<div>\n",
       "<style scoped>\n",
       "    .dataframe tbody tr th:only-of-type {\n",
       "        vertical-align: middle;\n",
       "    }\n",
       "\n",
       "    .dataframe tbody tr th {\n",
       "        vertical-align: top;\n",
       "    }\n",
       "\n",
       "    .dataframe thead th {\n",
       "        text-align: right;\n",
       "    }\n",
       "</style>\n",
       "<table border=\"1\" class=\"dataframe\">\n",
       "  <thead>\n",
       "    <tr style=\"text-align: right;\">\n",
       "      <th></th>\n",
       "      <th>AGER_TYP</th>\n",
       "      <th>ALTERSKATEGORIE_GROB</th>\n",
       "      <th>ANREDE_KZ</th>\n",
       "      <th>CJT_GESAMTTYP</th>\n",
       "      <th>FINANZ_MINIMALIST</th>\n",
       "      <th>FINANZ_SPARER</th>\n",
       "      <th>FINANZ_VORSORGER</th>\n",
       "      <th>FINANZ_ANLEGER</th>\n",
       "      <th>FINANZ_UNAUFFAELLIGER</th>\n",
       "      <th>FINANZ_HAUSBAUER</th>\n",
       "      <th>...</th>\n",
       "      <th>PLZ8_ANTG1</th>\n",
       "      <th>PLZ8_ANTG2</th>\n",
       "      <th>PLZ8_ANTG3</th>\n",
       "      <th>PLZ8_ANTG4</th>\n",
       "      <th>PLZ8_BAUMAX</th>\n",
       "      <th>PLZ8_HHZ</th>\n",
       "      <th>PLZ8_GBZ</th>\n",
       "      <th>ARBEIT</th>\n",
       "      <th>ORTSGR_KLS9</th>\n",
       "      <th>RELAT_AB</th>\n",
       "    </tr>\n",
       "  </thead>\n",
       "  <tbody>\n",
       "    <tr>\n",
       "      <th>0</th>\n",
       "      <td>-1</td>\n",
       "      <td>2</td>\n",
       "      <td>1</td>\n",
       "      <td>2.0</td>\n",
       "      <td>3</td>\n",
       "      <td>4</td>\n",
       "      <td>3</td>\n",
       "      <td>5</td>\n",
       "      <td>5</td>\n",
       "      <td>3</td>\n",
       "      <td>...</td>\n",
       "      <td>NaN</td>\n",
       "      <td>NaN</td>\n",
       "      <td>NaN</td>\n",
       "      <td>NaN</td>\n",
       "      <td>NaN</td>\n",
       "      <td>NaN</td>\n",
       "      <td>NaN</td>\n",
       "      <td>NaN</td>\n",
       "      <td>NaN</td>\n",
       "      <td>NaN</td>\n",
       "    </tr>\n",
       "    <tr>\n",
       "      <th>1</th>\n",
       "      <td>-1</td>\n",
       "      <td>1</td>\n",
       "      <td>2</td>\n",
       "      <td>5.0</td>\n",
       "      <td>1</td>\n",
       "      <td>5</td>\n",
       "      <td>2</td>\n",
       "      <td>5</td>\n",
       "      <td>4</td>\n",
       "      <td>5</td>\n",
       "      <td>...</td>\n",
       "      <td>2.0</td>\n",
       "      <td>3.0</td>\n",
       "      <td>2.0</td>\n",
       "      <td>1.0</td>\n",
       "      <td>1.0</td>\n",
       "      <td>5.0</td>\n",
       "      <td>4.0</td>\n",
       "      <td>3.0</td>\n",
       "      <td>5.0</td>\n",
       "      <td>4.0</td>\n",
       "    </tr>\n",
       "    <tr>\n",
       "      <th>2</th>\n",
       "      <td>-1</td>\n",
       "      <td>3</td>\n",
       "      <td>2</td>\n",
       "      <td>3.0</td>\n",
       "      <td>1</td>\n",
       "      <td>4</td>\n",
       "      <td>1</td>\n",
       "      <td>2</td>\n",
       "      <td>3</td>\n",
       "      <td>5</td>\n",
       "      <td>...</td>\n",
       "      <td>3.0</td>\n",
       "      <td>3.0</td>\n",
       "      <td>1.0</td>\n",
       "      <td>0.0</td>\n",
       "      <td>1.0</td>\n",
       "      <td>4.0</td>\n",
       "      <td>4.0</td>\n",
       "      <td>3.0</td>\n",
       "      <td>5.0</td>\n",
       "      <td>2.0</td>\n",
       "    </tr>\n",
       "    <tr>\n",
       "      <th>3</th>\n",
       "      <td>2</td>\n",
       "      <td>4</td>\n",
       "      <td>2</td>\n",
       "      <td>2.0</td>\n",
       "      <td>4</td>\n",
       "      <td>2</td>\n",
       "      <td>5</td>\n",
       "      <td>2</td>\n",
       "      <td>1</td>\n",
       "      <td>2</td>\n",
       "      <td>...</td>\n",
       "      <td>2.0</td>\n",
       "      <td>2.0</td>\n",
       "      <td>2.0</td>\n",
       "      <td>0.0</td>\n",
       "      <td>1.0</td>\n",
       "      <td>3.0</td>\n",
       "      <td>4.0</td>\n",
       "      <td>2.0</td>\n",
       "      <td>3.0</td>\n",
       "      <td>3.0</td>\n",
       "    </tr>\n",
       "    <tr>\n",
       "      <th>4</th>\n",
       "      <td>-1</td>\n",
       "      <td>3</td>\n",
       "      <td>1</td>\n",
       "      <td>5.0</td>\n",
       "      <td>4</td>\n",
       "      <td>3</td>\n",
       "      <td>4</td>\n",
       "      <td>1</td>\n",
       "      <td>3</td>\n",
       "      <td>2</td>\n",
       "      <td>...</td>\n",
       "      <td>2.0</td>\n",
       "      <td>4.0</td>\n",
       "      <td>2.0</td>\n",
       "      <td>1.0</td>\n",
       "      <td>2.0</td>\n",
       "      <td>3.0</td>\n",
       "      <td>3.0</td>\n",
       "      <td>4.0</td>\n",
       "      <td>6.0</td>\n",
       "      <td>5.0</td>\n",
       "    </tr>\n",
       "  </tbody>\n",
       "</table>\n",
       "<p>5 rows × 85 columns</p>\n",
       "</div>"
      ],
      "text/plain": [
       "   AGER_TYP  ALTERSKATEGORIE_GROB  ANREDE_KZ  CJT_GESAMTTYP  \\\n",
       "0        -1                     2          1            2.0   \n",
       "1        -1                     1          2            5.0   \n",
       "2        -1                     3          2            3.0   \n",
       "3         2                     4          2            2.0   \n",
       "4        -1                     3          1            5.0   \n",
       "\n",
       "   FINANZ_MINIMALIST  FINANZ_SPARER  FINANZ_VORSORGER  FINANZ_ANLEGER  \\\n",
       "0                  3              4                 3               5   \n",
       "1                  1              5                 2               5   \n",
       "2                  1              4                 1               2   \n",
       "3                  4              2                 5               2   \n",
       "4                  4              3                 4               1   \n",
       "\n",
       "   FINANZ_UNAUFFAELLIGER  FINANZ_HAUSBAUER    ...     PLZ8_ANTG1  PLZ8_ANTG2  \\\n",
       "0                      5                 3    ...            NaN         NaN   \n",
       "1                      4                 5    ...            2.0         3.0   \n",
       "2                      3                 5    ...            3.0         3.0   \n",
       "3                      1                 2    ...            2.0         2.0   \n",
       "4                      3                 2    ...            2.0         4.0   \n",
       "\n",
       "   PLZ8_ANTG3  PLZ8_ANTG4  PLZ8_BAUMAX  PLZ8_HHZ  PLZ8_GBZ  ARBEIT  \\\n",
       "0         NaN         NaN          NaN       NaN       NaN     NaN   \n",
       "1         2.0         1.0          1.0       5.0       4.0     3.0   \n",
       "2         1.0         0.0          1.0       4.0       4.0     3.0   \n",
       "3         2.0         0.0          1.0       3.0       4.0     2.0   \n",
       "4         2.0         1.0          2.0       3.0       3.0     4.0   \n",
       "\n",
       "   ORTSGR_KLS9  RELAT_AB  \n",
       "0          NaN       NaN  \n",
       "1          5.0       4.0  \n",
       "2          5.0       2.0  \n",
       "3          3.0       3.0  \n",
       "4          6.0       5.0  \n",
       "\n",
       "[5 rows x 85 columns]"
      ]
     },
     "execution_count": 4,
     "metadata": {},
     "output_type": "execute_result"
    }
   ],
   "source": [
    "# Check the structure of the data after it's loaded (e.g. print the number of\n",
    "# rows and columns, print the first few rows).\n",
    "azdias.head()\n",
    "\n",
    "\n"
   ]
  },
  {
   "cell_type": "code",
   "execution_count": 5,
   "metadata": {},
   "outputs": [
    {
     "data": {
      "text/html": [
       "<div>\n",
       "<style scoped>\n",
       "    .dataframe tbody tr th:only-of-type {\n",
       "        vertical-align: middle;\n",
       "    }\n",
       "\n",
       "    .dataframe tbody tr th {\n",
       "        vertical-align: top;\n",
       "    }\n",
       "\n",
       "    .dataframe thead th {\n",
       "        text-align: right;\n",
       "    }\n",
       "</style>\n",
       "<table border=\"1\" class=\"dataframe\">\n",
       "  <thead>\n",
       "    <tr style=\"text-align: right;\">\n",
       "      <th></th>\n",
       "      <th>attribute</th>\n",
       "      <th>information_level</th>\n",
       "      <th>type</th>\n",
       "      <th>missing_or_unknown</th>\n",
       "    </tr>\n",
       "  </thead>\n",
       "  <tbody>\n",
       "    <tr>\n",
       "      <th>0</th>\n",
       "      <td>AGER_TYP</td>\n",
       "      <td>person</td>\n",
       "      <td>categorical</td>\n",
       "      <td>[-1,0]</td>\n",
       "    </tr>\n",
       "    <tr>\n",
       "      <th>1</th>\n",
       "      <td>ALTERSKATEGORIE_GROB</td>\n",
       "      <td>person</td>\n",
       "      <td>ordinal</td>\n",
       "      <td>[-1,0,9]</td>\n",
       "    </tr>\n",
       "    <tr>\n",
       "      <th>2</th>\n",
       "      <td>ANREDE_KZ</td>\n",
       "      <td>person</td>\n",
       "      <td>categorical</td>\n",
       "      <td>[-1,0]</td>\n",
       "    </tr>\n",
       "    <tr>\n",
       "      <th>3</th>\n",
       "      <td>CJT_GESAMTTYP</td>\n",
       "      <td>person</td>\n",
       "      <td>categorical</td>\n",
       "      <td>[0]</td>\n",
       "    </tr>\n",
       "    <tr>\n",
       "      <th>4</th>\n",
       "      <td>FINANZ_MINIMALIST</td>\n",
       "      <td>person</td>\n",
       "      <td>ordinal</td>\n",
       "      <td>[-1]</td>\n",
       "    </tr>\n",
       "  </tbody>\n",
       "</table>\n",
       "</div>"
      ],
      "text/plain": [
       "              attribute information_level         type missing_or_unknown\n",
       "0              AGER_TYP            person  categorical             [-1,0]\n",
       "1  ALTERSKATEGORIE_GROB            person      ordinal           [-1,0,9]\n",
       "2             ANREDE_KZ            person  categorical             [-1,0]\n",
       "3         CJT_GESAMTTYP            person  categorical                [0]\n",
       "4     FINANZ_MINIMALIST            person      ordinal               [-1]"
      ]
     },
     "execution_count": 5,
     "metadata": {},
     "output_type": "execute_result"
    }
   ],
   "source": [
    "feat_info.head()"
   ]
  },
  {
   "cell_type": "markdown",
   "metadata": {},
   "source": [
    "> **Tip**: Add additional cells to keep everything in reasonably-sized chunks! Keyboard shortcut `esc --> a` (press escape to enter command mode, then press the 'A' key) adds a new cell before the active cell, and `esc --> b` adds a new cell after the active cell. If you need to convert an active cell to a markdown cell, use `esc --> m` and to convert to a code cell, use `esc --> y`. \n",
    "\n",
    "## Step 1: Preprocessing\n",
    "\n",
    "### Step 1.1: Assess Missing Data\n",
    "\n",
    "The feature summary file contains a summary of properties for each demographics data column. You will use this file to help you make cleaning decisions during this stage of the project. First of all, you should assess the demographics data in terms of missing data. Pay attention to the following points as you perform your analysis, and take notes on what you observe. Make sure that you fill in the **Discussion** cell with your findings and decisions at the end of each step that has one!\n",
    "\n",
    "#### Step 1.1.1: Convert Missing Value Codes to NaNs\n",
    "The fourth column of the feature attributes summary (loaded in above as `feat_info`) documents the codes from the data dictionary that indicate missing or unknown data. While the file encodes this as a list (e.g. `[-1,0]`), this will get read in as a string object. You'll need to do a little bit of parsing to make use of it to identify and clean the data. Convert data that matches a 'missing' or 'unknown' value code into a numpy NaN value. You might want to see how much data takes on a 'missing' or 'unknown' code, and how much data is naturally missing, as a point of interest.\n",
    "\n",
    "**As one more reminder, you are encouraged to add additional cells to break up your analysis into manageable chunks.**"
   ]
  },
  {
   "cell_type": "code",
   "execution_count": 6,
   "metadata": {},
   "outputs": [],
   "source": [
    "# Identify missing or unknown data values and convert them to NaNs.\n",
    "\n",
    "for row in feat_info.iterrows():\n",
    "    col = (row[1]['attribute'])\n",
    "    for i in row[1]['missing_or_unknown'].strip('[').strip(']').split(','):\n",
    "        if i!='X' and i!='XX' and i!='':\n",
    "            azdias.loc[(azdias[col]==int(i)),[col]]=np.NaN\n",
    "        elif i=='':\n",
    "            azdias.loc[(azdias[col].isnull()),[col]]=np.nan\n",
    "        else:\n",
    "            azdias.loc[(azdias[col]==i),[col]]=np.NaN"
   ]
  },
  {
   "cell_type": "markdown",
   "metadata": {},
   "source": [
    "#### Step 1.1.2: Assess Missing Data in Each Column\n",
    "\n",
    "How much missing data is present in each column? There are a few columns that are outliers in terms of the proportion of values that are missing. You will want to use matplotlib's [`hist()`](https://matplotlib.org/api/_as_gen/matplotlib.pyplot.hist.html) function to visualize the distribution of missing value counts to find these columns. Identify and document these columns. While some of these columns might have justifications for keeping or re-encoding the data, for this project you should just remove them from the dataframe. (Feel free to make remarks about these outlier columns in the discussion, however!)\n",
    "\n",
    "For the remaining features, are there any patterns in which columns have, or share, missing data?"
   ]
  },
  {
   "cell_type": "code",
   "execution_count": 7,
   "metadata": {},
   "outputs": [
    {
     "data": {
      "text/html": [
       "<div>\n",
       "<style scoped>\n",
       "    .dataframe tbody tr th:only-of-type {\n",
       "        vertical-align: middle;\n",
       "    }\n",
       "\n",
       "    .dataframe tbody tr th {\n",
       "        vertical-align: top;\n",
       "    }\n",
       "\n",
       "    .dataframe thead th {\n",
       "        text-align: right;\n",
       "    }\n",
       "</style>\n",
       "<table border=\"1\" class=\"dataframe\">\n",
       "  <thead>\n",
       "    <tr style=\"text-align: right;\">\n",
       "      <th></th>\n",
       "      <th>Columns</th>\n",
       "      <th>Unique Values</th>\n",
       "      <th>% of Missing Values</th>\n",
       "      <th>% of Values in One Category</th>\n",
       "      <th>Data Type</th>\n",
       "    </tr>\n",
       "  </thead>\n",
       "  <tbody>\n",
       "    <tr>\n",
       "      <th>40</th>\n",
       "      <td>TITEL_KZ</td>\n",
       "      <td>5</td>\n",
       "      <td>0.997576</td>\n",
       "      <td>0.997576</td>\n",
       "      <td>float64</td>\n",
       "    </tr>\n",
       "    <tr>\n",
       "      <th>0</th>\n",
       "      <td>AGER_TYP</td>\n",
       "      <td>3</td>\n",
       "      <td>0.769554</td>\n",
       "      <td>0.769554</td>\n",
       "      <td>float64</td>\n",
       "    </tr>\n",
       "    <tr>\n",
       "      <th>47</th>\n",
       "      <td>KK_KUNDENTYP</td>\n",
       "      <td>6</td>\n",
       "      <td>0.655967</td>\n",
       "      <td>0.655967</td>\n",
       "      <td>float64</td>\n",
       "    </tr>\n",
       "    <tr>\n",
       "      <th>64</th>\n",
       "      <td>KBA05_BAUMAX</td>\n",
       "      <td>5</td>\n",
       "      <td>0.534687</td>\n",
       "      <td>0.534687</td>\n",
       "      <td>float64</td>\n",
       "    </tr>\n",
       "    <tr>\n",
       "      <th>11</th>\n",
       "      <td>GEBURTSJAHR</td>\n",
       "      <td>116</td>\n",
       "      <td>0.440203</td>\n",
       "      <td>0.440203</td>\n",
       "      <td>float64</td>\n",
       "    </tr>\n",
       "    <tr>\n",
       "      <th>43</th>\n",
       "      <td>ALTER_HH</td>\n",
       "      <td>21</td>\n",
       "      <td>0.348137</td>\n",
       "      <td>0.348137</td>\n",
       "      <td>float64</td>\n",
       "    </tr>\n",
       "    <tr>\n",
       "      <th>70</th>\n",
       "      <td>KKK</td>\n",
       "      <td>4</td>\n",
       "      <td>0.177357</td>\n",
       "      <td>0.306348</td>\n",
       "      <td>float64</td>\n",
       "    </tr>\n",
       "    <tr>\n",
       "      <th>73</th>\n",
       "      <td>REGIOTYP</td>\n",
       "      <td>7</td>\n",
       "      <td>0.177357</td>\n",
       "      <td>0.219122</td>\n",
       "      <td>float64</td>\n",
       "    </tr>\n",
       "    <tr>\n",
       "      <th>48</th>\n",
       "      <td>W_KEIT_KIND_HH</td>\n",
       "      <td>6</td>\n",
       "      <td>0.166051</td>\n",
       "      <td>0.316382</td>\n",
       "      <td>float64</td>\n",
       "    </tr>\n",
       "    <tr>\n",
       "      <th>60</th>\n",
       "      <td>KBA05_ANTG1</td>\n",
       "      <td>5</td>\n",
       "      <td>0.149597</td>\n",
       "      <td>0.292912</td>\n",
       "      <td>float64</td>\n",
       "    </tr>\n",
       "    <tr>\n",
       "      <th>61</th>\n",
       "      <td>KBA05_ANTG2</td>\n",
       "      <td>5</td>\n",
       "      <td>0.149597</td>\n",
       "      <td>0.328244</td>\n",
       "      <td>float64</td>\n",
       "    </tr>\n",
       "    <tr>\n",
       "      <th>62</th>\n",
       "      <td>KBA05_ANTG3</td>\n",
       "      <td>4</td>\n",
       "      <td>0.149597</td>\n",
       "      <td>0.573982</td>\n",
       "      <td>float64</td>\n",
       "    </tr>\n",
       "    <tr>\n",
       "      <th>63</th>\n",
       "      <td>KBA05_ANTG4</td>\n",
       "      <td>3</td>\n",
       "      <td>0.149597</td>\n",
       "      <td>0.673426</td>\n",
       "      <td>float64</td>\n",
       "    </tr>\n",
       "    <tr>\n",
       "      <th>65</th>\n",
       "      <td>KBA05_GBZ</td>\n",
       "      <td>5</td>\n",
       "      <td>0.149597</td>\n",
       "      <td>0.221980</td>\n",
       "      <td>float64</td>\n",
       "    </tr>\n",
       "    <tr>\n",
       "      <th>71</th>\n",
       "      <td>MOBI_REGIO</td>\n",
       "      <td>6</td>\n",
       "      <td>0.149597</td>\n",
       "      <td>0.184009</td>\n",
       "      <td>float64</td>\n",
       "    </tr>\n",
       "    <tr>\n",
       "      <th>77</th>\n",
       "      <td>PLZ8_ANTG3</td>\n",
       "      <td>4</td>\n",
       "      <td>0.130736</td>\n",
       "      <td>0.283873</td>\n",
       "      <td>float64</td>\n",
       "    </tr>\n",
       "    <tr>\n",
       "      <th>76</th>\n",
       "      <td>PLZ8_ANTG2</td>\n",
       "      <td>5</td>\n",
       "      <td>0.130736</td>\n",
       "      <td>0.344789</td>\n",
       "      <td>float64</td>\n",
       "    </tr>\n",
       "    <tr>\n",
       "      <th>81</th>\n",
       "      <td>PLZ8_GBZ</td>\n",
       "      <td>5</td>\n",
       "      <td>0.130736</td>\n",
       "      <td>0.323582</td>\n",
       "      <td>float64</td>\n",
       "    </tr>\n",
       "    <tr>\n",
       "      <th>80</th>\n",
       "      <td>PLZ8_HHZ</td>\n",
       "      <td>5</td>\n",
       "      <td>0.130736</td>\n",
       "      <td>0.346879</td>\n",
       "      <td>float64</td>\n",
       "    </tr>\n",
       "    <tr>\n",
       "      <th>75</th>\n",
       "      <td>PLZ8_ANTG1</td>\n",
       "      <td>5</td>\n",
       "      <td>0.130736</td>\n",
       "      <td>0.303617</td>\n",
       "      <td>float64</td>\n",
       "    </tr>\n",
       "    <tr>\n",
       "      <th>79</th>\n",
       "      <td>PLZ8_BAUMAX</td>\n",
       "      <td>5</td>\n",
       "      <td>0.130736</td>\n",
       "      <td>0.560523</td>\n",
       "      <td>float64</td>\n",
       "    </tr>\n",
       "    <tr>\n",
       "      <th>78</th>\n",
       "      <td>PLZ8_ANTG4</td>\n",
       "      <td>3</td>\n",
       "      <td>0.130736</td>\n",
       "      <td>0.399888</td>\n",
       "      <td>float64</td>\n",
       "    </tr>\n",
       "    <tr>\n",
       "      <th>41</th>\n",
       "      <td>VERS_TYP</td>\n",
       "      <td>2</td>\n",
       "      <td>0.124768</td>\n",
       "      <td>0.447388</td>\n",
       "      <td>float64</td>\n",
       "    </tr>\n",
       "    <tr>\n",
       "      <th>14</th>\n",
       "      <td>HEALTH_TYP</td>\n",
       "      <td>3</td>\n",
       "      <td>0.124768</td>\n",
       "      <td>0.348615</td>\n",
       "      <td>float64</td>\n",
       "    </tr>\n",
       "    <tr>\n",
       "      <th>38</th>\n",
       "      <td>SHOPPER_TYP</td>\n",
       "      <td>4</td>\n",
       "      <td>0.124768</td>\n",
       "      <td>0.285856</td>\n",
       "      <td>float64</td>\n",
       "    </tr>\n",
       "    <tr>\n",
       "      <th>21</th>\n",
       "      <td>NATIONALITAET_KZ</td>\n",
       "      <td>3</td>\n",
       "      <td>0.121536</td>\n",
       "      <td>0.767582</td>\n",
       "      <td>float64</td>\n",
       "    </tr>\n",
       "    <tr>\n",
       "      <th>22</th>\n",
       "      <td>PRAEGENDE_JUGENDJAHRE</td>\n",
       "      <td>15</td>\n",
       "      <td>0.121366</td>\n",
       "      <td>0.211729</td>\n",
       "      <td>float64</td>\n",
       "    </tr>\n",
       "    <tr>\n",
       "      <th>74</th>\n",
       "      <td>KBA13_ANZAHL_PKW</td>\n",
       "      <td>1261</td>\n",
       "      <td>0.118714</td>\n",
       "      <td>0.118714</td>\n",
       "      <td>float64</td>\n",
       "    </tr>\n",
       "    <tr>\n",
       "      <th>50</th>\n",
       "      <td>ANZ_HAUSHALTE_AKTIV</td>\n",
       "      <td>291</td>\n",
       "      <td>0.111769</td>\n",
       "      <td>0.219875</td>\n",
       "      <td>float64</td>\n",
       "    </tr>\n",
       "    <tr>\n",
       "      <th>59</th>\n",
       "      <td>CAMEO_INTL_2015</td>\n",
       "      <td>21</td>\n",
       "      <td>0.111479</td>\n",
       "      <td>0.150012</td>\n",
       "      <td>object</td>\n",
       "    </tr>\n",
       "    <tr>\n",
       "      <th>...</th>\n",
       "      <td>...</td>\n",
       "      <td>...</td>\n",
       "      <td>...</td>\n",
       "      <td>...</td>\n",
       "      <td>...</td>\n",
       "    </tr>\n",
       "    <tr>\n",
       "      <th>3</th>\n",
       "      <td>CJT_GESAMTTYP</td>\n",
       "      <td>6</td>\n",
       "      <td>0.005446</td>\n",
       "      <td>0.236712</td>\n",
       "      <td>float64</td>\n",
       "    </tr>\n",
       "    <tr>\n",
       "      <th>19</th>\n",
       "      <td>LP_STATUS_FEIN</td>\n",
       "      <td>10</td>\n",
       "      <td>0.005446</td>\n",
       "      <td>0.246039</td>\n",
       "      <td>float64</td>\n",
       "    </tr>\n",
       "    <tr>\n",
       "      <th>20</th>\n",
       "      <td>LP_STATUS_GROB</td>\n",
       "      <td>5</td>\n",
       "      <td>0.005446</td>\n",
       "      <td>0.378706</td>\n",
       "      <td>float64</td>\n",
       "    </tr>\n",
       "    <tr>\n",
       "      <th>23</th>\n",
       "      <td>RETOURTYP_BK_S</td>\n",
       "      <td>5</td>\n",
       "      <td>0.005446</td>\n",
       "      <td>0.334365</td>\n",
       "      <td>float64</td>\n",
       "    </tr>\n",
       "    <tr>\n",
       "      <th>72</th>\n",
       "      <td>ONLINE_AFFINITAET</td>\n",
       "      <td>6</td>\n",
       "      <td>0.005446</td>\n",
       "      <td>0.221999</td>\n",
       "      <td>float64</td>\n",
       "    </tr>\n",
       "    <tr>\n",
       "      <th>1</th>\n",
       "      <td>ALTERSKATEGORIE_GROB</td>\n",
       "      <td>4</td>\n",
       "      <td>0.003233</td>\n",
       "      <td>0.402294</td>\n",
       "      <td>float64</td>\n",
       "    </tr>\n",
       "    <tr>\n",
       "      <th>8</th>\n",
       "      <td>FINANZ_UNAUFFAELLIGER</td>\n",
       "      <td>5</td>\n",
       "      <td>0.000000</td>\n",
       "      <td>0.247522</td>\n",
       "      <td>float64</td>\n",
       "    </tr>\n",
       "    <tr>\n",
       "      <th>10</th>\n",
       "      <td>FINANZTYP</td>\n",
       "      <td>6</td>\n",
       "      <td>0.000000</td>\n",
       "      <td>0.325808</td>\n",
       "      <td>float64</td>\n",
       "    </tr>\n",
       "    <tr>\n",
       "      <th>9</th>\n",
       "      <td>FINANZ_HAUSBAUER</td>\n",
       "      <td>5</td>\n",
       "      <td>0.000000</td>\n",
       "      <td>0.263890</td>\n",
       "      <td>float64</td>\n",
       "    </tr>\n",
       "    <tr>\n",
       "      <th>13</th>\n",
       "      <td>GREEN_AVANTGARDE</td>\n",
       "      <td>2</td>\n",
       "      <td>0.000000</td>\n",
       "      <td>0.803388</td>\n",
       "      <td>float64</td>\n",
       "    </tr>\n",
       "    <tr>\n",
       "      <th>5</th>\n",
       "      <td>FINANZ_SPARER</td>\n",
       "      <td>5</td>\n",
       "      <td>0.000000</td>\n",
       "      <td>0.280753</td>\n",
       "      <td>float64</td>\n",
       "    </tr>\n",
       "    <tr>\n",
       "      <th>4</th>\n",
       "      <td>FINANZ_MINIMALIST</td>\n",
       "      <td>5</td>\n",
       "      <td>0.000000</td>\n",
       "      <td>0.287556</td>\n",
       "      <td>float64</td>\n",
       "    </tr>\n",
       "    <tr>\n",
       "      <th>6</th>\n",
       "      <td>FINANZ_VORSORGER</td>\n",
       "      <td>5</td>\n",
       "      <td>0.000000</td>\n",
       "      <td>0.271832</td>\n",
       "      <td>float64</td>\n",
       "    </tr>\n",
       "    <tr>\n",
       "      <th>7</th>\n",
       "      <td>FINANZ_ANLEGER</td>\n",
       "      <td>5</td>\n",
       "      <td>0.000000</td>\n",
       "      <td>0.263131</td>\n",
       "      <td>float64</td>\n",
       "    </tr>\n",
       "    <tr>\n",
       "      <th>2</th>\n",
       "      <td>ANREDE_KZ</td>\n",
       "      <td>2</td>\n",
       "      <td>0.000000</td>\n",
       "      <td>0.522098</td>\n",
       "      <td>float64</td>\n",
       "    </tr>\n",
       "    <tr>\n",
       "      <th>35</th>\n",
       "      <td>SEMIO_KAEM</td>\n",
       "      <td>7</td>\n",
       "      <td>0.000000</td>\n",
       "      <td>0.231145</td>\n",
       "      <td>float64</td>\n",
       "    </tr>\n",
       "    <tr>\n",
       "      <th>24</th>\n",
       "      <td>SEMIO_SOZ</td>\n",
       "      <td>7</td>\n",
       "      <td>0.000000</td>\n",
       "      <td>0.274583</td>\n",
       "      <td>float64</td>\n",
       "    </tr>\n",
       "    <tr>\n",
       "      <th>36</th>\n",
       "      <td>SEMIO_PFLICHT</td>\n",
       "      <td>7</td>\n",
       "      <td>0.000000</td>\n",
       "      <td>0.228726</td>\n",
       "      <td>float64</td>\n",
       "    </tr>\n",
       "    <tr>\n",
       "      <th>25</th>\n",
       "      <td>SEMIO_FAM</td>\n",
       "      <td>7</td>\n",
       "      <td>0.000000</td>\n",
       "      <td>0.209520</td>\n",
       "      <td>float64</td>\n",
       "    </tr>\n",
       "    <tr>\n",
       "      <th>26</th>\n",
       "      <td>SEMIO_REL</td>\n",
       "      <td>7</td>\n",
       "      <td>0.000000</td>\n",
       "      <td>0.237177</td>\n",
       "      <td>float64</td>\n",
       "    </tr>\n",
       "    <tr>\n",
       "      <th>27</th>\n",
       "      <td>SEMIO_MAT</td>\n",
       "      <td>7</td>\n",
       "      <td>0.000000</td>\n",
       "      <td>0.192171</td>\n",
       "      <td>float64</td>\n",
       "    </tr>\n",
       "    <tr>\n",
       "      <th>28</th>\n",
       "      <td>SEMIO_VERT</td>\n",
       "      <td>7</td>\n",
       "      <td>0.000000</td>\n",
       "      <td>0.229273</td>\n",
       "      <td>float64</td>\n",
       "    </tr>\n",
       "    <tr>\n",
       "      <th>29</th>\n",
       "      <td>SEMIO_LUST</td>\n",
       "      <td>7</td>\n",
       "      <td>0.000000</td>\n",
       "      <td>0.190794</td>\n",
       "      <td>float64</td>\n",
       "    </tr>\n",
       "    <tr>\n",
       "      <th>30</th>\n",
       "      <td>SEMIO_ERL</td>\n",
       "      <td>7</td>\n",
       "      <td>0.000000</td>\n",
       "      <td>0.220154</td>\n",
       "      <td>float64</td>\n",
       "    </tr>\n",
       "    <tr>\n",
       "      <th>31</th>\n",
       "      <td>SEMIO_KULT</td>\n",
       "      <td>7</td>\n",
       "      <td>0.000000</td>\n",
       "      <td>0.234585</td>\n",
       "      <td>float64</td>\n",
       "    </tr>\n",
       "    <tr>\n",
       "      <th>32</th>\n",
       "      <td>SEMIO_RAT</td>\n",
       "      <td>7</td>\n",
       "      <td>0.000000</td>\n",
       "      <td>0.375278</td>\n",
       "      <td>float64</td>\n",
       "    </tr>\n",
       "    <tr>\n",
       "      <th>33</th>\n",
       "      <td>SEMIO_KRIT</td>\n",
       "      <td>7</td>\n",
       "      <td>0.000000</td>\n",
       "      <td>0.246681</td>\n",
       "      <td>float64</td>\n",
       "    </tr>\n",
       "    <tr>\n",
       "      <th>34</th>\n",
       "      <td>SEMIO_DOM</td>\n",
       "      <td>7</td>\n",
       "      <td>0.000000</td>\n",
       "      <td>0.205824</td>\n",
       "      <td>float64</td>\n",
       "    </tr>\n",
       "    <tr>\n",
       "      <th>37</th>\n",
       "      <td>SEMIO_TRADV</td>\n",
       "      <td>7</td>\n",
       "      <td>0.000000</td>\n",
       "      <td>0.254225</td>\n",
       "      <td>float64</td>\n",
       "    </tr>\n",
       "    <tr>\n",
       "      <th>42</th>\n",
       "      <td>ZABEOTYP</td>\n",
       "      <td>6</td>\n",
       "      <td>0.000000</td>\n",
       "      <td>0.409444</td>\n",
       "      <td>float64</td>\n",
       "    </tr>\n",
       "  </tbody>\n",
       "</table>\n",
       "<p>85 rows × 5 columns</p>\n",
       "</div>"
      ],
      "text/plain": [
       "                  Columns  Unique Values  % of Missing Values  \\\n",
       "40               TITEL_KZ              5             0.997576   \n",
       "0                AGER_TYP              3             0.769554   \n",
       "47           KK_KUNDENTYP              6             0.655967   \n",
       "64           KBA05_BAUMAX              5             0.534687   \n",
       "11            GEBURTSJAHR            116             0.440203   \n",
       "43               ALTER_HH             21             0.348137   \n",
       "70                    KKK              4             0.177357   \n",
       "73               REGIOTYP              7             0.177357   \n",
       "48         W_KEIT_KIND_HH              6             0.166051   \n",
       "60            KBA05_ANTG1              5             0.149597   \n",
       "61            KBA05_ANTG2              5             0.149597   \n",
       "62            KBA05_ANTG3              4             0.149597   \n",
       "63            KBA05_ANTG4              3             0.149597   \n",
       "65              KBA05_GBZ              5             0.149597   \n",
       "71             MOBI_REGIO              6             0.149597   \n",
       "77             PLZ8_ANTG3              4             0.130736   \n",
       "76             PLZ8_ANTG2              5             0.130736   \n",
       "81               PLZ8_GBZ              5             0.130736   \n",
       "80               PLZ8_HHZ              5             0.130736   \n",
       "75             PLZ8_ANTG1              5             0.130736   \n",
       "79            PLZ8_BAUMAX              5             0.130736   \n",
       "78             PLZ8_ANTG4              3             0.130736   \n",
       "41               VERS_TYP              2             0.124768   \n",
       "14             HEALTH_TYP              3             0.124768   \n",
       "38            SHOPPER_TYP              4             0.124768   \n",
       "21       NATIONALITAET_KZ              3             0.121536   \n",
       "22  PRAEGENDE_JUGENDJAHRE             15             0.121366   \n",
       "74       KBA13_ANZAHL_PKW           1261             0.118714   \n",
       "50    ANZ_HAUSHALTE_AKTIV            291             0.111769   \n",
       "59        CAMEO_INTL_2015             21             0.111479   \n",
       "..                    ...            ...                  ...   \n",
       "3           CJT_GESAMTTYP              6             0.005446   \n",
       "19         LP_STATUS_FEIN             10             0.005446   \n",
       "20         LP_STATUS_GROB              5             0.005446   \n",
       "23         RETOURTYP_BK_S              5             0.005446   \n",
       "72      ONLINE_AFFINITAET              6             0.005446   \n",
       "1    ALTERSKATEGORIE_GROB              4             0.003233   \n",
       "8   FINANZ_UNAUFFAELLIGER              5             0.000000   \n",
       "10              FINANZTYP              6             0.000000   \n",
       "9        FINANZ_HAUSBAUER              5             0.000000   \n",
       "13       GREEN_AVANTGARDE              2             0.000000   \n",
       "5           FINANZ_SPARER              5             0.000000   \n",
       "4       FINANZ_MINIMALIST              5             0.000000   \n",
       "6        FINANZ_VORSORGER              5             0.000000   \n",
       "7          FINANZ_ANLEGER              5             0.000000   \n",
       "2               ANREDE_KZ              2             0.000000   \n",
       "35             SEMIO_KAEM              7             0.000000   \n",
       "24              SEMIO_SOZ              7             0.000000   \n",
       "36          SEMIO_PFLICHT              7             0.000000   \n",
       "25              SEMIO_FAM              7             0.000000   \n",
       "26              SEMIO_REL              7             0.000000   \n",
       "27              SEMIO_MAT              7             0.000000   \n",
       "28             SEMIO_VERT              7             0.000000   \n",
       "29             SEMIO_LUST              7             0.000000   \n",
       "30              SEMIO_ERL              7             0.000000   \n",
       "31             SEMIO_KULT              7             0.000000   \n",
       "32              SEMIO_RAT              7             0.000000   \n",
       "33             SEMIO_KRIT              7             0.000000   \n",
       "34              SEMIO_DOM              7             0.000000   \n",
       "37            SEMIO_TRADV              7             0.000000   \n",
       "42               ZABEOTYP              6             0.000000   \n",
       "\n",
       "    % of Values in One Category Data Type  \n",
       "40                     0.997576   float64  \n",
       "0                      0.769554   float64  \n",
       "47                     0.655967   float64  \n",
       "64                     0.534687   float64  \n",
       "11                     0.440203   float64  \n",
       "43                     0.348137   float64  \n",
       "70                     0.306348   float64  \n",
       "73                     0.219122   float64  \n",
       "48                     0.316382   float64  \n",
       "60                     0.292912   float64  \n",
       "61                     0.328244   float64  \n",
       "62                     0.573982   float64  \n",
       "63                     0.673426   float64  \n",
       "65                     0.221980   float64  \n",
       "71                     0.184009   float64  \n",
       "77                     0.283873   float64  \n",
       "76                     0.344789   float64  \n",
       "81                     0.323582   float64  \n",
       "80                     0.346879   float64  \n",
       "75                     0.303617   float64  \n",
       "79                     0.560523   float64  \n",
       "78                     0.399888   float64  \n",
       "41                     0.447388   float64  \n",
       "14                     0.348615   float64  \n",
       "38                     0.285856   float64  \n",
       "21                     0.767582   float64  \n",
       "22                     0.211729   float64  \n",
       "74                     0.118714   float64  \n",
       "50                     0.219875   float64  \n",
       "59                     0.150012    object  \n",
       "..                          ...       ...  \n",
       "3                      0.236712   float64  \n",
       "19                     0.246039   float64  \n",
       "20                     0.378706   float64  \n",
       "23                     0.334365   float64  \n",
       "72                     0.221999   float64  \n",
       "1                      0.402294   float64  \n",
       "8                      0.247522   float64  \n",
       "10                     0.325808   float64  \n",
       "9                      0.263890   float64  \n",
       "13                     0.803388   float64  \n",
       "5                      0.280753   float64  \n",
       "4                      0.287556   float64  \n",
       "6                      0.271832   float64  \n",
       "7                      0.263131   float64  \n",
       "2                      0.522098   float64  \n",
       "35                     0.231145   float64  \n",
       "24                     0.274583   float64  \n",
       "36                     0.228726   float64  \n",
       "25                     0.209520   float64  \n",
       "26                     0.237177   float64  \n",
       "27                     0.192171   float64  \n",
       "28                     0.229273   float64  \n",
       "29                     0.190794   float64  \n",
       "30                     0.220154   float64  \n",
       "31                     0.234585   float64  \n",
       "32                     0.375278   float64  \n",
       "33                     0.246681   float64  \n",
       "34                     0.205824   float64  \n",
       "37                     0.254225   float64  \n",
       "42                     0.409444   float64  \n",
       "\n",
       "[85 rows x 5 columns]"
      ]
     },
     "execution_count": 7,
     "metadata": {},
     "output_type": "execute_result"
    }
   ],
   "source": [
    "# Perform an assessment of how much missing data there is in each column of the\n",
    "# dataset.\n",
    "\n",
    "lighteda.data_stats(azdias)\n"
   ]
  },
  {
   "cell_type": "code",
   "execution_count": 8,
   "metadata": {},
   "outputs": [
    {
     "data": {
      "text/plain": [
       "Text(0.5,0,'% of Missing Values')"
      ]
     },
     "execution_count": 8,
     "metadata": {},
     "output_type": "execute_result"
    },
    {
     "data": {
      "image/png": "[encoded data removed]",
      "text/plain": [
       "<matplotlib.figure.Figure at 0x7f8d2a116278>"
      ]
     },
     "metadata": {
      "needs_background": "light"
     },
     "output_type": "display_data"
    }
   ],
   "source": [
    "# Investigate patterns in the amount of missing data in each column.\n",
    "data = lighteda.data_stats(azdias)['% of Missing Values']\n",
    "plt.hist(data, bins=50)\n",
    "plt.xlabel('% of Missing Values')\n"
   ]
  },
  {
   "cell_type": "code",
   "execution_count": 9,
   "metadata": {},
   "outputs": [
    {
     "name": "stdout",
     "output_type": "stream",
     "text": [
      "['TITEL_KZ', 'AGER_TYP', 'KK_KUNDENTYP', 'KBA05_BAUMAX', 'GEBURTSJAHR', 'ALTER_HH']\n"
     ]
    }
   ],
   "source": [
    "# Remove the outlier columns from the dataset. (You'll perform other data\n",
    "# engineering tasks such as re-encoding and imputation later.)\n",
    "\n",
    "col = list(lighteda.data_stats(azdias)['Columns'])\n",
    "outlier = []\n",
    "\n",
    "for index, row in lighteda.data_stats(azdias).iterrows():\n",
    "    if row['% of Missing Values'] > .20:\n",
    "        col.remove(row['Columns'])\n",
    "        outlier.append(row['Columns'])\n",
    "azdias_outlier_removed = azdias[col]\n",
    "print(outlier)"
   ]
  },
  {
   "cell_type": "code",
   "execution_count": 10,
   "metadata": {},
   "outputs": [
    {
     "name": "stdout",
     "output_type": "stream",
     "text": [
      "   KKK  REGIOTYP  W_KEIT_KIND_HH  KBA05_ANTG1  KBA05_ANTG2  KBA05_ANTG3  \\\n",
      "0  NaN       NaN             NaN          NaN          NaN          NaN   \n",
      "1  2.0       3.0             3.0          0.0          0.0          0.0   \n",
      "2  2.0       2.0             3.0          1.0          3.0          1.0   \n",
      "3  NaN       NaN             NaN          4.0          1.0          0.0   \n",
      "4  3.0       5.0             2.0          1.0          4.0          1.0   \n",
      "\n",
      "   KBA05_ANTG4  KBA05_GBZ  MOBI_REGIO  PLZ8_ANTG3    ...     SEMIO_MAT  \\\n",
      "0          NaN        NaN         NaN         NaN    ...           5.0   \n",
      "1          2.0        1.0         1.0         2.0    ...           3.0   \n",
      "2          0.0        3.0         3.0         1.0    ...           3.0   \n",
      "3          0.0        4.0         4.0         2.0    ...           1.0   \n",
      "4          0.0        3.0         3.0         2.0    ...           2.0   \n",
      "\n",
      "   SEMIO_VERT  SEMIO_LUST  SEMIO_ERL  SEMIO_KULT  SEMIO_RAT  SEMIO_KRIT  \\\n",
      "0         1.0         5.0        3.0         3.0        4.0         7.0   \n",
      "1         1.0         2.0        2.0         3.0        6.0         4.0   \n",
      "2         4.0         4.0        6.0         3.0        4.0         7.0   \n",
      "3         4.0         4.0        7.0         4.0        3.0         4.0   \n",
      "4         7.0         4.0        4.0         6.0        2.0         3.0   \n",
      "\n",
      "   SEMIO_DOM  SEMIO_TRADV  ZABEOTYP  \n",
      "0        6.0          3.0       3.0  \n",
      "1        7.0          6.0       5.0  \n",
      "2        7.0          3.0       5.0  \n",
      "3        4.0          4.0       3.0  \n",
      "4        2.0          2.0       4.0  \n",
      "\n",
      "[5 rows x 79 columns]\n"
     ]
    }
   ],
   "source": [
    "print(azdias_outlier_removed.head())"
   ]
  },
  {
   "cell_type": "markdown",
   "metadata": {},
   "source": [
    "#### Discussion 1.1.2: Assess Missing Data in Each Column\n",
    "\n",
    "When reviewing the histogram, you can see that most columns have less than 20% of missing data. I removed any column that had missing data greater than 20%. The removed columns are ['TITEL_KZ', 'AGER_TYP', 'KK_KUNDENTYP', 'KBA05_BAUMAX', 'GEBURTSJAHR', 'ALTER_HH']."
   ]
  },
  {
   "cell_type": "markdown",
   "metadata": {},
   "source": [
    "#### Step 1.1.3: Assess Missing Data in Each Row\n",
    "\n",
    "Now, you'll perform a similar assessment for the rows of the dataset. How much data is missing in each row? As with the columns, you should see some groups of points that have a very different numbers of missing values. Divide the data into two subsets: one for data points that are above some threshold for missing values, and a second subset for points below that threshold.\n",
    "\n",
    "In order to know what to do with the outlier rows, we should see if the distribution of data values on columns that are not missing data (or are missing very little data) are similar or different between the two groups. Select at least five of these columns and compare the distribution of values.\n",
    "- You can use seaborn's [`countplot()`](https://seaborn.pydata.org/generated/seaborn.countplot.html) function to create a bar chart of code frequencies and matplotlib's [`subplot()`](https://matplotlib.org/api/_as_gen/matplotlib.pyplot.subplot.html) function to put bar charts for the two subplots side by side.\n",
    "- To reduce repeated code, you might want to write a function that can perform this comparison, taking as one of its arguments a column to be compared.\n",
    "\n",
    "Depending on what you observe in your comparison, this will have implications on how you approach your conclusions later in the analysis. If the distributions of non-missing features look similar between the data with many missing values and the data with few or no missing values, then we could argue that simply dropping those points from the analysis won't present a major issue. On the other hand, if the data with many missing values looks very different from the data with few or no missing values, then we should make a note on those data as special. We'll revisit these data later on. **Either way, you should continue your analysis for now using just the subset of the data with few or no missing values.**"
   ]
  },
  {
   "cell_type": "code",
   "execution_count": 11,
   "metadata": {},
   "outputs": [],
   "source": [
    "# How much data is missing in each row of the dataset?\n",
    "\n",
    "nulls = azdias_outlier_removed.isnull().sum(axis = 1)\n"
   ]
  },
  {
   "cell_type": "code",
   "execution_count": 12,
   "metadata": {},
   "outputs": [
    {
     "data": {
      "text/plain": [
       "count    891221.000000\n",
       "mean          5.649894\n",
       "std          13.234687\n",
       "min           0.000000\n",
       "25%           0.000000\n",
       "50%           0.000000\n",
       "75%           3.000000\n",
       "max          49.000000\n",
       "dtype: float64"
      ]
     },
     "execution_count": 12,
     "metadata": {},
     "output_type": "execute_result"
    }
   ],
   "source": [
    "\n",
    "nulls.describe()\n"
   ]
  },
  {
   "cell_type": "code",
   "execution_count": 13,
   "metadata": {},
   "outputs": [
    {
     "data": {
      "text/plain": [
       "(array([  6.23209000e+05,   1.57380000e+04,   2.79260000e+04,\n",
       "          1.76290000e+04,   1.26070000e+04,   2.25150000e+04,\n",
       "          1.37710000e+04,   1.37140000e+04,   2.45920000e+04,\n",
       "          3.04200000e+03,   5.41000000e+03,   1.12700000e+03,\n",
       "          7.66000000e+02,   3.25500000e+03,   2.24300000e+03,\n",
       "          4.74300000e+03,   2.50500000e+03,   6.77000000e+02,\n",
       "          4.28000000e+02,   1.18000000e+03,   3.49000000e+02,\n",
       "          1.50000000e+02,   1.29000000e+02,   1.32000000e+02,\n",
       "          6.90000000e+01,   5.50000000e+01,   5.90000000e+01,\n",
       "          2.40000000e+01,   5.00000000e+00,   1.20000000e+01,\n",
       "          6.00000000e+00,   3.00000000e+00,   2.06000000e+02,\n",
       "          2.98500000e+03,   1.08160000e+04,   3.91100000e+03,\n",
       "          8.40000000e+01,   5.38000000e+02,   4.21000000e+02,\n",
       "          7.70000000e+01,   1.37000000e+02,   3.56000000e+02,\n",
       "          2.10000000e+01,   2.73690000e+04,   1.55000000e+02,\n",
       "          4.94000000e+02,   0.00000000e+00,   4.55780000e+04,\n",
       "          1.00000000e+00,   2.00000000e+00]),\n",
       " array([  0.  ,   0.98,   1.96,   2.94,   3.92,   4.9 ,   5.88,   6.86,\n",
       "          7.84,   8.82,   9.8 ,  10.78,  11.76,  12.74,  13.72,  14.7 ,\n",
       "         15.68,  16.66,  17.64,  18.62,  19.6 ,  20.58,  21.56,  22.54,\n",
       "         23.52,  24.5 ,  25.48,  26.46,  27.44,  28.42,  29.4 ,  30.38,\n",
       "         31.36,  32.34,  33.32,  34.3 ,  35.28,  36.26,  37.24,  38.22,\n",
       "         39.2 ,  40.18,  41.16,  42.14,  43.12,  44.1 ,  45.08,  46.06,\n",
       "         47.04,  48.02,  49.  ]),\n",
       " <a list of 50 Patch objects>)"
      ]
     },
     "execution_count": 13,
     "metadata": {},
     "output_type": "execute_result"
    },
    {
     "data": {
      "image/png": "[encoded data removed]",
      "text/plain": [
       "<matplotlib.figure.Figure at 0x7f8d280a3080>"
      ]
     },
     "metadata": {
      "needs_background": "light"
     },
     "output_type": "display_data"
    }
   ],
   "source": [
    "plt.hist(nulls, bins=50)"
   ]
  },
  {
   "cell_type": "code",
   "execution_count": 14,
   "metadata": {},
   "outputs": [],
   "source": [
    "# Write code to divide the data into two subsets based on the number of missing\n",
    "# values in each row.\n",
    "\n",
    "less_25 = azdias_outlier_removed[nulls<25]\n",
    "greater_25 = azdias_outlier_removed[nulls>=25]"
   ]
  },
  {
   "cell_type": "code",
   "execution_count": 15,
   "metadata": {},
   "outputs": [
    {
     "name": "stdout",
     "output_type": "stream",
     "text": [
      "['GFK_URLAUBERTYP', 'CJT_GESAMTTYP', 'LP_STATUS_FEIN', 'LP_STATUS_GROB', 'RETOURTYP_BK_S', 'ONLINE_AFFINITAET', 'ALTERSKATEGORIE_GROB', 'FINANZ_UNAUFFAELLIGER', 'FINANZTYP', 'FINANZ_HAUSBAUER', 'GREEN_AVANTGARDE', 'FINANZ_SPARER', 'FINANZ_MINIMALIST', 'FINANZ_VORSORGER', 'FINANZ_ANLEGER', 'ANREDE_KZ', 'SEMIO_KAEM', 'SEMIO_SOZ', 'SEMIO_PFLICHT', 'SEMIO_FAM', 'SEMIO_REL', 'SEMIO_MAT', 'SEMIO_VERT', 'SEMIO_LUST', 'SEMIO_ERL', 'SEMIO_KULT', 'SEMIO_RAT', 'SEMIO_KRIT', 'SEMIO_DOM', 'SEMIO_TRADV', 'ZABEOTYP']\n"
     ]
    }
   ],
   "source": [
    "col = list(lighteda.data_stats(azdias)['Columns'])\n",
    "outlier = []\n",
    "\n",
    "for index, row in lighteda.data_stats(azdias).iterrows():\n",
    "    if row['% of Missing Values'] < .01:\n",
    "        col.remove(row['Columns'])\n",
    "        outlier.append(row['Columns'])\n",
    "top_cols = azdias[outlier]\n",
    "print(outlier)"
   ]
  },
  {
   "cell_type": "code",
   "execution_count": 16,
   "metadata": {},
   "outputs": [
    {
     "name": "stdout",
     "output_type": "stream",
     "text": [
      "['GFK_URLAUBERTYP', 'CJT_GESAMTTYP', 'LP_STATUS_FEIN', 'LP_STATUS_GROB', 'RETOURTYP_BK_S']\n"
     ]
    }
   ],
   "source": [
    "top_col = outlier[:5]\n",
    "print(top_col)"
   ]
  },
  {
   "cell_type": "code",
   "execution_count": 17,
   "metadata": {},
   "outputs": [
    {
     "data": {
      "text/plain": [
       "5"
      ]
     },
     "execution_count": 17,
     "metadata": {},
     "output_type": "execute_result"
    }
   ],
   "source": [
    "len(top_col)"
   ]
  },
  {
   "cell_type": "code",
   "execution_count": 18,
   "metadata": {},
   "outputs": [],
   "source": [
    "def create_plot(column):\n",
    "    fig, (ax1, ax2) = plt.subplots(1, 2)\n",
    "    fig.set_figwidth(15)\n",
    "    ax1.set_title('missing values less than 30')\n",
    "    sns.countplot(azdias_outlier_removed.loc[less_25.index,column],ax=ax1)\n",
    "\n",
    "    ax2.set_title('missing values above 30')\n",
    "    sns.countplot(azdias_outlier_removed.loc[greater_25.index,column],ax=ax2)\n",
    "    \n",
    "    plt.show()"
   ]
  },
  {
   "cell_type": "code",
   "execution_count": 19,
   "metadata": {
    "scrolled": true
   },
   "outputs": [
    {
     "data": {
      "image/png": "[encoded data removed]",
      "text/plain": [
       "<matplotlib.figure.Figure at 0x7f8d27fce550>"
      ]
     },
     "metadata": {
      "needs_background": "light"
     },
     "output_type": "display_data"
    },
    {
     "data": {
      "image/png": "[encoded data removed]",
      "text/plain": [
       "<matplotlib.figure.Figure at 0x7f8d08184630>"
      ]
     },
     "metadata": {
      "needs_background": "light"
     },
     "output_type": "display_data"
    },
    {
     "data": {
      "image/png": "[encoded data removed]",
      "text/plain": [
       "<matplotlib.figure.Figure at 0x7f8d080e4908>"
      ]
     },
     "metadata": {
      "needs_background": "light"
     },
     "output_type": "display_data"
    },
    {
     "data": {
      "image/png": "[encoded data removed]",
      "text/plain": [
       "<matplotlib.figure.Figure at 0x7f8d081841d0>"
      ]
     },
     "metadata": {
      "needs_background": "light"
     },
     "output_type": "display_data"
    },
    {
     "data": {
      "image/png": "[encoded data removed]",
      "text/plain": [
       "<matplotlib.figure.Figure at 0x7f8d06e04e10>"
      ]
     },
     "metadata": {
      "needs_background": "light"
     },
     "output_type": "display_data"
    }
   ],
   "source": [
    "# Compare the distribution of values for at least five columns where there are\n",
    "# no or few missing values, between the two subsets.\n",
    "\n",
    "\n",
    "for i in range(len(top_col)):\n",
    "    create_plot(top_col[i])"
   ]
  },
  {
   "cell_type": "markdown",
   "metadata": {},
   "source": [
    "#### Discussion 1.1.3: Assess Missing Data in Each Row\n",
    "\n",
    "The distribution in both catagories are very different based on observing the plots above."
   ]
  },
  {
   "cell_type": "markdown",
   "metadata": {},
   "source": [
    "### Step 1.2: Select and Re-Encode Features\n",
    "\n",
    "Checking for missing data isn't the only way in which you can prepare a dataset for analysis. Since the unsupervised learning techniques to be used will only work on data that is encoded numerically, you need to make a few encoding changes or additional assumptions to be able to make progress. In addition, while almost all of the values in the dataset are encoded using numbers, not all of them represent numeric values. Check the third column of the feature summary (`feat_info`) for a summary of types of measurement.\n",
    "- For numeric and interval data, these features can be kept without changes.\n",
    "- Most of the variables in the dataset are ordinal in nature. While ordinal values may technically be non-linear in spacing, make the simplifying assumption that the ordinal variables can be treated as being interval in nature (that is, kept without any changes).\n",
    "- Special handling may be necessary for the remaining two variable types: categorical, and 'mixed'.\n",
    "\n",
    "In the first two parts of this sub-step, you will perform an investigation of the categorical and mixed-type features and make a decision on each of them, whether you will keep, drop, or re-encode each. Then, in the last part, you will create a new data frame with only the selected and engineered columns.\n",
    "\n",
    "Data wrangling is often the trickiest part of the data analysis process, and there's a lot of it to be done here. But stick with it: once you're done with this step, you'll be ready to get to the machine learning parts of the project!"
   ]
  },
  {
   "cell_type": "code",
   "execution_count": 20,
   "metadata": {},
   "outputs": [],
   "source": [
    "# How many features are there of each data type?\n",
    "\n",
    "feat_info = feat_info[feat_info.attribute.isin(less_25)]\n"
   ]
  },
  {
   "cell_type": "code",
   "execution_count": 21,
   "metadata": {},
   "outputs": [
    {
     "data": {
      "text/plain": [
       "ordinal        49\n",
       "categorical    18\n",
       "mixed           6\n",
       "numeric         6\n",
       "Name: type, dtype: int64"
      ]
     },
     "execution_count": 21,
     "metadata": {},
     "output_type": "execute_result"
    }
   ],
   "source": [
    "feat_info.type.value_counts()"
   ]
  },
  {
   "cell_type": "markdown",
   "metadata": {},
   "source": [
    "#### Step 1.2.1: Re-Encode Categorical Features\n",
    "\n",
    "For categorical data, you would ordinarily need to encode the levels as dummy variables. Depending on the number of categories, perform one of the following:\n",
    "- For binary (two-level) categoricals that take numeric values, you can keep them without needing to do anything.\n",
    "- There is one binary variable that takes on non-numeric values. For this one, you need to re-encode the values as numbers or create a dummy variable.\n",
    "- For multi-level categoricals (three or more values), you can choose to encode the values using multiple dummy variables (e.g. via [OneHotEncoder](http://scikit-learn.org/stable/modules/generated/sklearn.preprocessing.OneHotEncoder.html)), or (to keep things straightforward) just drop them from the analysis. As always, document your choices in the Discussion section."
   ]
  },
  {
   "cell_type": "code",
   "execution_count": 22,
   "metadata": {},
   "outputs": [
    {
     "name": "stdout",
     "output_type": "stream",
     "text": [
      "2            ANREDE_KZ\n",
      "3        CJT_GESAMTTYP\n",
      "10           FINANZTYP\n",
      "12     GFK_URLAUBERTYP\n",
      "13    GREEN_AVANTGARDE\n",
      "17     LP_FAMILIE_FEIN\n",
      "18     LP_FAMILIE_GROB\n",
      "19      LP_STATUS_FEIN\n",
      "20      LP_STATUS_GROB\n",
      "21    NATIONALITAET_KZ\n",
      "38         SHOPPER_TYP\n",
      "39             SOHO_KZ\n",
      "41            VERS_TYP\n",
      "42            ZABEOTYP\n",
      "52         GEBAEUDETYP\n",
      "55         OST_WEST_KZ\n",
      "57     CAMEO_DEUG_2015\n",
      "58      CAMEO_DEU_2015\n",
      "Name: attribute, dtype: object\n"
     ]
    }
   ],
   "source": [
    "# Assess categorical variables: which are binary, which are multi-level, and\n",
    "# which one needs to be re-encoded?\n",
    "\n",
    "categor = feat_info[feat_info.type == \"categorical\"]['attribute']\n",
    "print(categor)"
   ]
  },
  {
   "cell_type": "code",
   "execution_count": 23,
   "metadata": {},
   "outputs": [],
   "source": [
    "binary_feat = []\n",
    "multi_level_feat = []\n",
    "\n",
    "for f in categor:\n",
    "    if(less_25[f].nunique()> 2):\n",
    "        multi_level_feat.append(f)\n",
    "    else:\n",
    "        binary_feat.append(f)\n",
    "\n",
    "    "
   ]
  },
  {
   "cell_type": "code",
   "execution_count": 24,
   "metadata": {},
   "outputs": [
    {
     "name": "stdout",
     "output_type": "stream",
     "text": [
      "['ANREDE_KZ', 'GREEN_AVANTGARDE', 'SOHO_KZ', 'VERS_TYP', 'OST_WEST_KZ']\n"
     ]
    }
   ],
   "source": [
    "print(binary_feat)"
   ]
  },
  {
   "cell_type": "code",
   "execution_count": 25,
   "metadata": {},
   "outputs": [
    {
     "name": "stdout",
     "output_type": "stream",
     "text": [
      "['CJT_GESAMTTYP', 'FINANZTYP', 'GFK_URLAUBERTYP', 'LP_FAMILIE_FEIN', 'LP_FAMILIE_GROB', 'LP_STATUS_FEIN', 'LP_STATUS_GROB', 'NATIONALITAET_KZ', 'SHOPPER_TYP', 'ZABEOTYP', 'GEBAEUDETYP', 'CAMEO_DEUG_2015', 'CAMEO_DEU_2015']\n"
     ]
    }
   ],
   "source": [
    "print(multi_level_feat)"
   ]
  },
  {
   "cell_type": "code",
   "execution_count": 26,
   "metadata": {},
   "outputs": [],
   "source": [
    "# Re-encode categorical variable(s) to be kept in the analysis.\n",
    "less_25 = pd.get_dummies(less_25, columns = multi_level_feat)\n"
   ]
  },
  {
   "cell_type": "code",
   "execution_count": 27,
   "metadata": {},
   "outputs": [],
   "source": [
    "less_25.replace({'OST_WEST_KZ':{'W':0, 'O': 1}}, inplace = True)"
   ]
  },
  {
   "cell_type": "markdown",
   "metadata": {},
   "source": [
    "#### Discussion 1.2.1: Re-Encode Categorical Features\n",
    "\n",
    "* I standardized the binary types by fixing OST_WEST_KZ from W,O to 0,1\n",
    "* I utlized get dummies to encode the multi level catagorical features"
   ]
  },
  {
   "cell_type": "markdown",
   "metadata": {},
   "source": [
    "#### Step 1.2.2: Engineer Mixed-Type Features\n",
    "\n",
    "There are a handful of features that are marked as \"mixed\" in the feature summary that require special treatment in order to be included in the analysis. There are two in particular that deserve attention; the handling of the rest are up to your own choices:\n",
    "- \"PRAEGENDE_JUGENDJAHRE\" combines information on three dimensions: generation by decade, movement (mainstream vs. avantgarde), and nation (east vs. west). While there aren't enough levels to disentangle east from west, you should create two new variables to capture the other two dimensions: an interval-type variable for decade, and a binary variable for movement.\n",
    "- \"CAMEO_INTL_2015\" combines information on two axes: wealth and life stage. Break up the two-digit codes by their 'tens'-place and 'ones'-place digits into two new ordinal variables (which, for the purposes of this project, is equivalent to just treating them as their raw numeric values).\n",
    "- If you decide to keep or engineer new features around the other mixed-type features, make sure you note your steps in the Discussion section.\n",
    "\n",
    "Be sure to check `Data_Dictionary.md` for the details needed to finish these tasks."
   ]
  },
  {
   "cell_type": "code",
   "execution_count": 28,
   "metadata": {},
   "outputs": [
    {
     "name": "stdout",
     "output_type": "stream",
     "text": [
      "        LP_LEBENSPHASE_FEIN  LP_LEBENSPHASE_GROB  PRAEGENDE_JUGENDJAHRE  \\\n",
      "1                      21.0                  6.0                   14.0   \n",
      "2                       3.0                  1.0                   15.0   \n",
      "3                       NaN                  NaN                    8.0   \n",
      "4                      32.0                 10.0                    8.0   \n",
      "5                       8.0                  2.0                    3.0   \n",
      "6                       2.0                  1.0                   10.0   \n",
      "7                       5.0                  2.0                    8.0   \n",
      "8                      10.0                  3.0                   11.0   \n",
      "9                       4.0                  1.0                   15.0   \n",
      "10                      6.0                  2.0                    3.0   \n",
      "12                     23.0                  6.0                    8.0   \n",
      "13                      3.0                  1.0                   15.0   \n",
      "15                     12.0                  3.0                    5.0   \n",
      "16                      NaN                  NaN                   14.0   \n",
      "18                     10.0                  3.0                   10.0   \n",
      "19                     20.0                  5.0                    9.0   \n",
      "20                     10.0                  3.0                   11.0   \n",
      "21                     10.0                  3.0                   10.0   \n",
      "22                      1.0                  1.0                   14.0   \n",
      "23                     20.0                  5.0                    9.0   \n",
      "25                      NaN                  NaN                   14.0   \n",
      "26                     11.0                  3.0                    8.0   \n",
      "27                     25.0                  7.0                   11.0   \n",
      "28                      5.0                  2.0                   10.0   \n",
      "29                     13.0                  3.0                    6.0   \n",
      "31                      2.0                  1.0                   10.0   \n",
      "32                     18.0                  5.0                   15.0   \n",
      "33                     31.0                 10.0                    8.0   \n",
      "34                     13.0                  3.0                    4.0   \n",
      "36                      5.0                  2.0                    8.0   \n",
      "...                     ...                  ...                    ...   \n",
      "891191                  8.0                  2.0                    3.0   \n",
      "891192                 29.0                  9.0                   14.0   \n",
      "891193                 16.0                  4.0                    5.0   \n",
      "891194                 28.0                  8.0                   11.0   \n",
      "891195                 32.0                 10.0                    8.0   \n",
      "891196                 25.0                  7.0                   14.0   \n",
      "891197                 13.0                  3.0                   11.0   \n",
      "891198                  3.0                  1.0                   15.0   \n",
      "891199                  2.0                  1.0                   10.0   \n",
      "891200                 29.0                  9.0                   14.0   \n",
      "891201                  4.0                  1.0                   10.0   \n",
      "891202                  2.0                  1.0                   10.0   \n",
      "891203                  NaN                  NaN                    NaN   \n",
      "891204                 34.0                 11.0                   10.0   \n",
      "891205                 31.0                 10.0                    3.0   \n",
      "891206                 10.0                  3.0                   14.0   \n",
      "891207                 20.0                  5.0                    2.0   \n",
      "891208                 19.0                  5.0                    8.0   \n",
      "891209                 29.0                  9.0                   14.0   \n",
      "891210                  5.0                  2.0                    8.0   \n",
      "891211                  5.0                  2.0                    8.0   \n",
      "891212                  6.0                  2.0                    3.0   \n",
      "891213                 36.0                 12.0                   11.0   \n",
      "891214                  2.0                  1.0                   14.0   \n",
      "891215                  2.0                  1.0                   10.0   \n",
      "891216                  2.0                  1.0                   14.0   \n",
      "891217                  2.0                  1.0                   10.0   \n",
      "891218                  NaN                  NaN                   14.0   \n",
      "891219                 29.0                  9.0                   14.0   \n",
      "891220                  6.0                  2.0                    3.0   \n",
      "\n",
      "        WOHNLAGE CAMEO_INTL_2015  PLZ8_BAUMAX  \n",
      "1            4.0              51          1.0  \n",
      "2            2.0              24          1.0  \n",
      "3            7.0              12          1.0  \n",
      "4            3.0              43          2.0  \n",
      "5            7.0              54          1.0  \n",
      "6            5.0              22          1.0  \n",
      "7            1.0              14          1.0  \n",
      "8            1.0              13          1.0  \n",
      "9            7.0              15          1.0  \n",
      "10           5.0              51          2.0  \n",
      "12           3.0              43          1.0  \n",
      "13           5.0              33          1.0  \n",
      "15           3.0              41          NaN  \n",
      "16           7.0              41          1.0  \n",
      "18           2.0              24          1.0  \n",
      "19           1.0              34          2.0  \n",
      "20           5.0              24          NaN  \n",
      "21           4.0              55          4.0  \n",
      "22           4.0              51          2.0  \n",
      "23           3.0              43          NaN  \n",
      "25           7.0              33          1.0  \n",
      "26           7.0             NaN          NaN  \n",
      "27           3.0              51          4.0  \n",
      "28           5.0              13          1.0  \n",
      "29           3.0              12          1.0  \n",
      "31           2.0              51          5.0  \n",
      "32           7.0              14          1.0  \n",
      "33           1.0              41          5.0  \n",
      "34           3.0              25          1.0  \n",
      "36           3.0              41          1.0  \n",
      "...          ...             ...          ...  \n",
      "891191       7.0              44          1.0  \n",
      "891192       5.0              32          1.0  \n",
      "891193       5.0              43          2.0  \n",
      "891194       2.0              24          1.0  \n",
      "891195       2.0              55          1.0  \n",
      "891196       4.0              23          1.0  \n",
      "891197       2.0              24          1.0  \n",
      "891198       3.0              14          1.0  \n",
      "891199       4.0              51          5.0  \n",
      "891200       4.0              52          2.0  \n",
      "891201       3.0              41          3.0  \n",
      "891202       4.0              41          5.0  \n",
      "891203       1.0              25          1.0  \n",
      "891204       3.0              24          1.0  \n",
      "891205       5.0              34          3.0  \n",
      "891206       2.0              25          1.0  \n",
      "891207       4.0              41          4.0  \n",
      "891208       7.0              14          1.0  \n",
      "891209       3.0              51          5.0  \n",
      "891210       3.0              41          1.0  \n",
      "891211       3.0              51          2.0  \n",
      "891212       3.0              51          5.0  \n",
      "891213       4.0              34          2.0  \n",
      "891214       3.0              23          5.0  \n",
      "891215       3.0              31          2.0  \n",
      "891216       3.0              41          1.0  \n",
      "891217       5.0              51          4.0  \n",
      "891218       7.0              24          1.0  \n",
      "891219       5.0              51          5.0  \n",
      "891220       4.0              43          1.0  \n",
      "\n",
      "[797906 rows x 6 columns]\n"
     ]
    }
   ],
   "source": [
    "mixed_feats = feat_info[feat_info.type == \"mixed\"].attribute\n",
    "print(less_25[mixed_feats])"
   ]
  },
  {
   "cell_type": "code",
   "execution_count": 29,
   "metadata": {},
   "outputs": [],
   "source": [
    "# Investigate \"PRAEGENDE_JUGENDJAHRE\" and engineer two new variables.\n",
    "decade = {1:1, 2:1, 3:2, 4:2, 5:3, 6:3, 7:3, 8:4, 9:4, 10:5, 11:5, 12:5, 13:5, 14:6, 15:6}\n",
    "movement = {1:0, 2:1, 3:0, 4:1, 5:0, 6:1, 7:1, 8:0, 9:1, 10:0, 11:1, 12:0, 13:1, 14:0, 15:1}\n",
    "            \n",
    "less_25['DECADE'] = less_25['PRAEGENDE_JUGENDJAHRE']\n",
    "less_25['DECADE'].replace(decade, inplace = True)\n",
    "\n",
    "less_25['MOVEMENT'] = less_25['PRAEGENDE_JUGENDJAHRE']\n",
    "less_25['MOVEMENT'].replace(movement, inplace = True)"
   ]
  },
  {
   "cell_type": "code",
   "execution_count": 30,
   "metadata": {},
   "outputs": [
    {
     "name": "stdout",
     "output_type": "stream",
     "text": [
      "1    6.0\n",
      "2    6.0\n",
      "3    4.0\n",
      "4    4.0\n",
      "5    2.0\n",
      "Name: DECADE, dtype: float64\n"
     ]
    }
   ],
   "source": [
    "print(less_25['DECADE'].head())"
   ]
  },
  {
   "cell_type": "code",
   "execution_count": 31,
   "metadata": {},
   "outputs": [
    {
     "name": "stdout",
     "output_type": "stream",
     "text": [
      "1    0.0\n",
      "2    1.0\n",
      "3    0.0\n",
      "4    0.0\n",
      "5    0.0\n",
      "Name: MOVEMENT, dtype: float64\n"
     ]
    }
   ],
   "source": [
    "print(less_25['MOVEMENT'].head())"
   ]
  },
  {
   "cell_type": "code",
   "execution_count": 32,
   "metadata": {},
   "outputs": [],
   "source": [
    "# Investigate \"CAMEO_INTL_2015\" and engineer two new variables.\n",
    "wealth = {\n",
    "    '11':1, '12':1, '13':1, '14':1, '15':1, \n",
    "    '21':2, '22':2, '23':2, '24':2, '25':2, \n",
    "    '31':3, '32':3, '33':3, '34':3, '35':3, \n",
    "    '41':4, '42':4, '43':4, '44':4, '45':4, \n",
    "    '51':5, '52':5, '53':5, '54':5, '55':5, \n",
    "}\n",
    "\n",
    "life_stage ={\n",
    "    '11':1, '12':2, '13':3, '14':4, '15':5, \n",
    "    '21':1, '22':2, '23':3, '24':4, '25':5, \n",
    "    '31':1, '32':2, '33':3, '34':4, '35':5, \n",
    "    '41':1, '42':2, '43':3, '44':4, '45':5, \n",
    "    '51':1, '52':2, '53':3, '54':4, '55':5, \n",
    "}\n",
    "\n",
    "less_25['WEALTH'] = less_25['CAMEO_INTL_2015']\n",
    "less_25['WEALTH'].replace(wealth, inplace = True)\n",
    "\n",
    "less_25['LIFE_STAGE'] = less_25['CAMEO_INTL_2015']\n",
    "less_25['LIFE_STAGE'].replace(life_stage, inplace = True)"
   ]
  },
  {
   "cell_type": "code",
   "execution_count": 33,
   "metadata": {},
   "outputs": [],
   "source": [
    "less_25 = less_25.drop(mixed_feats, axis = 1)"
   ]
  },
  {
   "cell_type": "code",
   "execution_count": 34,
   "metadata": {},
   "outputs": [
    {
     "name": "stdout",
     "output_type": "stream",
     "text": [
      "   KKK  REGIOTYP  W_KEIT_KIND_HH  KBA05_ANTG1  KBA05_ANTG2  KBA05_ANTG3  \\\n",
      "1  2.0       3.0             3.0          0.0          0.0          0.0   \n",
      "2  2.0       2.0             3.0          1.0          3.0          1.0   \n",
      "3  NaN       NaN             NaN          4.0          1.0          0.0   \n",
      "4  3.0       5.0             2.0          1.0          4.0          1.0   \n",
      "5  4.0       5.0             6.0          2.0          2.0          0.0   \n",
      "\n",
      "   KBA05_ANTG4  KBA05_GBZ  MOBI_REGIO  PLZ8_ANTG3     ...      \\\n",
      "1          2.0        1.0         1.0         2.0     ...       \n",
      "2          0.0        3.0         3.0         1.0     ...       \n",
      "3          0.0        4.0         4.0         2.0     ...       \n",
      "4          0.0        3.0         3.0         2.0     ...       \n",
      "5          0.0        4.0         4.0         1.0     ...       \n",
      "\n",
      "   CAMEO_DEU_2015_8D  CAMEO_DEU_2015_9A  CAMEO_DEU_2015_9B  CAMEO_DEU_2015_9C  \\\n",
      "1                  0                  0                  0                  0   \n",
      "2                  0                  0                  0                  0   \n",
      "3                  0                  0                  0                  0   \n",
      "4                  0                  0                  0                  0   \n",
      "5                  0                  0                  0                  0   \n",
      "\n",
      "   CAMEO_DEU_2015_9D  CAMEO_DEU_2015_9E  DECADE  MOVEMENT  WEALTH  LIFE_STAGE  \n",
      "1                  0                  0     6.0       0.0     5.0         1.0  \n",
      "2                  0                  0     6.0       1.0     2.0         4.0  \n",
      "3                  0                  0     4.0       0.0     1.0         2.0  \n",
      "4                  0                  0     4.0       0.0     4.0         3.0  \n",
      "5                  0                  0     2.0       0.0     5.0         4.0  \n",
      "\n",
      "[5 rows x 192 columns]\n"
     ]
    }
   ],
   "source": [
    "print(less_25.head())"
   ]
  },
  {
   "cell_type": "markdown",
   "metadata": {},
   "source": [
    "#### Discussion 1.2.2: Engineer Mixed-Type Features\n",
    "\n",
    "I added two columns for cameo_intl_2015 and praegende_jugendjahre with proper encodings. I decided to drop the rest of the mixed features."
   ]
  },
  {
   "cell_type": "markdown",
   "metadata": {},
   "source": [
    "#### Step 1.2.3: Complete Feature Selection\n",
    "\n",
    "In order to finish this step up, you need to make sure that your data frame now only has the columns that you want to keep. To summarize, the dataframe should consist of the following:\n",
    "- All numeric, interval, and ordinal type columns from the original dataset.\n",
    "- Binary categorical features (all numerically-encoded).\n",
    "- Engineered features from other multi-level categorical features and mixed features.\n",
    "\n",
    "Make sure that for any new columns that you have engineered, that you've excluded the original columns from the final dataset. Otherwise, their values will interfere with the analysis later on the project. For example, you should not keep \"PRAEGENDE_JUGENDJAHRE\", since its values won't be useful for the algorithm: only the values derived from it in the engineered features you created should be retained. As a reminder, your data should only be from **the subset with few or no missing values**."
   ]
  },
  {
   "cell_type": "code",
   "execution_count": 35,
   "metadata": {},
   "outputs": [
    {
     "name": "stdout",
     "output_type": "stream",
     "text": [
      "Index(['KKK', 'REGIOTYP', 'W_KEIT_KIND_HH', 'KBA05_ANTG1', 'KBA05_ANTG2',\n",
      "       'KBA05_ANTG3', 'KBA05_ANTG4', 'KBA05_GBZ', 'MOBI_REGIO', 'PLZ8_ANTG3',\n",
      "       'PLZ8_ANTG2', 'PLZ8_GBZ', 'PLZ8_HHZ', 'PLZ8_ANTG1', 'PLZ8_BAUMAX',\n",
      "       'PLZ8_ANTG4', 'VERS_TYP', 'HEALTH_TYP', 'SHOPPER_TYP',\n",
      "       'NATIONALITAET_KZ', 'PRAEGENDE_JUGENDJAHRE', 'KBA13_ANZAHL_PKW',\n",
      "       'ANZ_HAUSHALTE_AKTIV', 'CAMEO_INTL_2015', 'CAMEO_DEU_2015',\n",
      "       'CAMEO_DEUG_2015', 'LP_LEBENSPHASE_FEIN', 'ARBEIT', 'RELAT_AB',\n",
      "       'ORTSGR_KLS9', 'ANZ_HH_TITEL', 'LP_LEBENSPHASE_GROB', 'INNENSTADT',\n",
      "       'EWDICHTE', 'BALLRAUM', 'GEBAEUDETYP_RASTER', 'WOHNLAGE', 'OST_WEST_KZ',\n",
      "       'MIN_GEBAEUDEJAHR', 'GEBAEUDETYP', 'LP_FAMILIE_FEIN', 'LP_FAMILIE_GROB',\n",
      "       'KONSUMNAEHE', 'WOHNDAUER_2008', 'SOHO_KZ', 'ANZ_TITEL', 'ANZ_PERSONEN',\n",
      "       'HH_EINKOMMEN_SCORE', 'GFK_URLAUBERTYP', 'CJT_GESAMTTYP',\n",
      "       'LP_STATUS_FEIN', 'LP_STATUS_GROB', 'RETOURTYP_BK_S',\n",
      "       'ONLINE_AFFINITAET', 'ALTERSKATEGORIE_GROB', 'FINANZ_UNAUFFAELLIGER',\n",
      "       'FINANZTYP', 'FINANZ_HAUSBAUER', 'GREEN_AVANTGARDE', 'FINANZ_SPARER',\n",
      "       'FINANZ_MINIMALIST', 'FINANZ_VORSORGER', 'FINANZ_ANLEGER', 'ANREDE_KZ',\n",
      "       'SEMIO_KAEM', 'SEMIO_SOZ', 'SEMIO_PFLICHT', 'SEMIO_FAM', 'SEMIO_REL',\n",
      "       'SEMIO_MAT', 'SEMIO_VERT', 'SEMIO_LUST', 'SEMIO_ERL', 'SEMIO_KULT',\n",
      "       'SEMIO_RAT', 'SEMIO_KRIT', 'SEMIO_DOM', 'SEMIO_TRADV', 'ZABEOTYP'],\n",
      "      dtype='object')\n"
     ]
    }
   ],
   "source": [
    "# If there are other re-engineering tasks you need to perform, make sure you\n",
    "# take care of them here. (Dealing with missing data will come in step 2.1.)\n",
    "\n",
    "print(azdias_outlier_removed.columns)"
   ]
  },
  {
   "cell_type": "code",
   "execution_count": 36,
   "metadata": {},
   "outputs": [
    {
     "name": "stdout",
     "output_type": "stream",
     "text": [
      "(891221, 79)\n"
     ]
    }
   ],
   "source": [
    "print(azdias_outlier_removed.shape)"
   ]
  },
  {
   "cell_type": "code",
   "execution_count": 37,
   "metadata": {},
   "outputs": [],
   "source": [
    "# Do whatever you need to in order to ensure that the dataframe only contains\n",
    "# the columns that should be passed to the algorithm functions.\n",
    "\n"
   ]
  },
  {
   "cell_type": "markdown",
   "metadata": {},
   "source": [
    "### Step 1.3: Create a Cleaning Function\n",
    "\n",
    "Even though you've finished cleaning up the general population demographics data, it's important to look ahead to the future and realize that you'll need to perform the same cleaning steps on the customer demographics data. In this substep, complete the function below to execute the main feature selection, encoding, and re-engineering steps you performed above. Then, when it comes to looking at the customer data in Step 3, you can just run this function on that DataFrame to get the trimmed dataset in a single step."
   ]
  },
  {
   "cell_type": "code",
   "execution_count": 99,
   "metadata": {},
   "outputs": [],
   "source": [
    "def clean_data(df):\n",
    "    \"\"\"\n",
    "    Perform feature trimming, re-encoding, and engineering for demographics\n",
    "    data\n",
    "    \n",
    "    INPUT: Demographics DataFrame\n",
    "    OUTPUT: Trimmed and cleaned demographics DataFrame\n",
    "    \"\"\"\n",
    "    \n",
    "    # Put in code here to execute all main cleaning steps:\n",
    "    # convert missing value codes into NaNs, ...\n",
    "    feat_info = pd.read_csv('AZDIAS_Feature_Summary.csv',sep=';') \n",
    "\n",
    "    for row in feat_info.iterrows():\n",
    "        col = (row[1]['attribute'])\n",
    "        for i in row[1]['missing_or_unknown'].strip('[').strip(']').split(','):\n",
    "            if i!='X' and i!='XX' and i!='':\n",
    "                df.loc[(df[col]==int(i)),[col]]=np.NaN\n",
    "            elif i=='':\n",
    "                df.loc[(df[col].isnull()),[col]]=np.nan\n",
    "            else:\n",
    "                df.loc[(df[col]==i),[col]]=np.NaN\n",
    "    \n",
    "    # remove selected columns and rows, ...\n",
    "    \n",
    "# remove columns\n",
    "    col = list(lighteda.data_stats(df)['Columns'])\n",
    "    outlier = []\n",
    "\n",
    "    for index, row in lighteda.data_stats(df).iterrows():\n",
    "        if row['% of Missing Values'] > .20:\n",
    "            col.remove(row['Columns'])\n",
    "            outlier.append(row['Columns'])\n",
    "        azdias_outlier_removed = df[col]\n",
    "\n",
    "#remove rows\n",
    "    nulls = azdias_outlier_removed.isnull().sum(axis = 1)\n",
    "    less_25 = azdias_outlier_removed[nulls<25]\n",
    "\n",
    "    # select, re-encode, and engineer column values.\n",
    "    feat_info = feat_info[feat_info.attribute.isin(less_25)]\n",
    "    categor = feat_info[feat_info.type == \"categorical\"]['attribute']\n",
    "    binary_feat = []\n",
    "    multi_level_feat = []\n",
    "\n",
    "    for f in categor:\n",
    "        if(less_25[f].nunique()> 2):\n",
    "            multi_level_feat.append(f)\n",
    "        else:\n",
    "            binary_feat.append(f)\n",
    "\n",
    "    less_25 = pd.get_dummies(less_25, columns = multi_level_feat)\n",
    "    less_25.replace({'OST_WEST_KZ':{'W':0, 'O': 1}}, inplace = True)    \n",
    "\n",
    "\n",
    "    decade = {1:1, 2:1, 3:2, 4:2, 5:3, 6:3, 7:3, 8:4, 9:4, 10:5, 11:5, 12:5, 13:5, 14:6, 15:6}\n",
    "    movement = {1:0, 2:1, 3:0, 4:1, 5:0, 6:1, 7:1, 8:0, 9:1, 10:0, 11:1, 12:0, 13:1, 14:0, 15:1}\n",
    "            \n",
    "    less_25['DECADE'] = less_25['PRAEGENDE_JUGENDJAHRE']\n",
    "    less_25['DECADE'].replace(decade, inplace = True)\n",
    "\n",
    "    less_25['MOVEMENT'] = less_25['PRAEGENDE_JUGENDJAHRE']\n",
    "    less_25['MOVEMENT'].replace(movement, inplace = True)\n",
    "\n",
    "\n",
    "    wealth = {\n",
    "    '11':1, '12':1, '13':1, '14':1, '15':1, \n",
    "    '21':2, '22':2, '23':2, '24':2, '25':2, \n",
    "    '31':3, '32':3, '33':3, '34':3, '35':3, \n",
    "    '41':4, '42':4, '43':4, '44':4, '45':4, \n",
    "    '51':5, '52':5, '53':5, '54':5, '55':5, \n",
    "    }\n",
    "\n",
    "    life_stage ={\n",
    "    '11':1, '12':2, '13':3, '14':4, '15':5, \n",
    "    '21':1, '22':2, '23':3, '24':4, '25':5, \n",
    "    '31':1, '32':2, '33':3, '34':4, '35':5, \n",
    "    '41':1, '42':2, '43':3, '44':4, '45':5, \n",
    "    '51':1, '52':2, '53':3, '54':4, '55':5, \n",
    "    }\n",
    "\n",
    "    less_25['WEALTH'] = less_25['CAMEO_INTL_2015']\n",
    "    less_25['WEALTH'].replace(wealth, inplace = True)\n",
    "\n",
    "    less_25['LIFE_STAGE'] = less_25['CAMEO_INTL_2015']\n",
    "    less_25['LIFE_STAGE'].replace(life_stage, inplace = True)\n",
    "\n",
    "    less_25 = less_25.drop(mixed_feats, axis = 1)\n",
    "\n",
    "\n",
    "    # Return the cleaned dataframe.\n",
    "    return less_25"
   ]
  },
  {
   "cell_type": "code",
   "execution_count": 97,
   "metadata": {},
   "outputs": [],
   "source": [
    "azdias_test = pd.read_csv(\"Udacity_AZDIAS_Subset.csv\",sep=';')\n",
    "test_df=clean_data(azdias_test)"
   ]
  },
  {
   "cell_type": "code",
   "execution_count": 98,
   "metadata": {},
   "outputs": [
    {
     "data": {
      "text/html": [
       "<div>\n",
       "<style scoped>\n",
       "    .dataframe tbody tr th:only-of-type {\n",
       "        vertical-align: middle;\n",
       "    }\n",
       "\n",
       "    .dataframe tbody tr th {\n",
       "        vertical-align: top;\n",
       "    }\n",
       "\n",
       "    .dataframe thead th {\n",
       "        text-align: right;\n",
       "    }\n",
       "</style>\n",
       "<table border=\"1\" class=\"dataframe\">\n",
       "  <thead>\n",
       "    <tr style=\"text-align: right;\">\n",
       "      <th></th>\n",
       "      <th>KKK</th>\n",
       "      <th>REGIOTYP</th>\n",
       "      <th>W_KEIT_KIND_HH</th>\n",
       "      <th>KBA05_ANTG1</th>\n",
       "      <th>KBA05_ANTG2</th>\n",
       "      <th>KBA05_ANTG3</th>\n",
       "      <th>KBA05_ANTG4</th>\n",
       "      <th>KBA05_GBZ</th>\n",
       "      <th>MOBI_REGIO</th>\n",
       "      <th>PLZ8_ANTG3</th>\n",
       "      <th>...</th>\n",
       "      <th>CAMEO_DEU_2015_8D</th>\n",
       "      <th>CAMEO_DEU_2015_9A</th>\n",
       "      <th>CAMEO_DEU_2015_9B</th>\n",
       "      <th>CAMEO_DEU_2015_9C</th>\n",
       "      <th>CAMEO_DEU_2015_9D</th>\n",
       "      <th>CAMEO_DEU_2015_9E</th>\n",
       "      <th>DECADE</th>\n",
       "      <th>MOVEMENT</th>\n",
       "      <th>WEALTH</th>\n",
       "      <th>LIFE_STAGE</th>\n",
       "    </tr>\n",
       "  </thead>\n",
       "  <tbody>\n",
       "    <tr>\n",
       "      <th>1</th>\n",
       "      <td>2.0</td>\n",
       "      <td>3.0</td>\n",
       "      <td>3.0</td>\n",
       "      <td>0.0</td>\n",
       "      <td>0.0</td>\n",
       "      <td>0.0</td>\n",
       "      <td>2.0</td>\n",
       "      <td>1.0</td>\n",
       "      <td>1.0</td>\n",
       "      <td>2.0</td>\n",
       "      <td>...</td>\n",
       "      <td>0</td>\n",
       "      <td>0</td>\n",
       "      <td>0</td>\n",
       "      <td>0</td>\n",
       "      <td>0</td>\n",
       "      <td>0</td>\n",
       "      <td>6.0</td>\n",
       "      <td>0.0</td>\n",
       "      <td>5.0</td>\n",
       "      <td>1.0</td>\n",
       "    </tr>\n",
       "    <tr>\n",
       "      <th>2</th>\n",
       "      <td>2.0</td>\n",
       "      <td>2.0</td>\n",
       "      <td>3.0</td>\n",
       "      <td>1.0</td>\n",
       "      <td>3.0</td>\n",
       "      <td>1.0</td>\n",
       "      <td>0.0</td>\n",
       "      <td>3.0</td>\n",
       "      <td>3.0</td>\n",
       "      <td>1.0</td>\n",
       "      <td>...</td>\n",
       "      <td>0</td>\n",
       "      <td>0</td>\n",
       "      <td>0</td>\n",
       "      <td>0</td>\n",
       "      <td>0</td>\n",
       "      <td>0</td>\n",
       "      <td>6.0</td>\n",
       "      <td>1.0</td>\n",
       "      <td>2.0</td>\n",
       "      <td>4.0</td>\n",
       "    </tr>\n",
       "    <tr>\n",
       "      <th>3</th>\n",
       "      <td>NaN</td>\n",
       "      <td>NaN</td>\n",
       "      <td>NaN</td>\n",
       "      <td>4.0</td>\n",
       "      <td>1.0</td>\n",
       "      <td>0.0</td>\n",
       "      <td>0.0</td>\n",
       "      <td>4.0</td>\n",
       "      <td>4.0</td>\n",
       "      <td>2.0</td>\n",
       "      <td>...</td>\n",
       "      <td>0</td>\n",
       "      <td>0</td>\n",
       "      <td>0</td>\n",
       "      <td>0</td>\n",
       "      <td>0</td>\n",
       "      <td>0</td>\n",
       "      <td>4.0</td>\n",
       "      <td>0.0</td>\n",
       "      <td>1.0</td>\n",
       "      <td>2.0</td>\n",
       "    </tr>\n",
       "    <tr>\n",
       "      <th>4</th>\n",
       "      <td>3.0</td>\n",
       "      <td>5.0</td>\n",
       "      <td>2.0</td>\n",
       "      <td>1.0</td>\n",
       "      <td>4.0</td>\n",
       "      <td>1.0</td>\n",
       "      <td>0.0</td>\n",
       "      <td>3.0</td>\n",
       "      <td>3.0</td>\n",
       "      <td>2.0</td>\n",
       "      <td>...</td>\n",
       "      <td>0</td>\n",
       "      <td>0</td>\n",
       "      <td>0</td>\n",
       "      <td>0</td>\n",
       "      <td>0</td>\n",
       "      <td>0</td>\n",
       "      <td>4.0</td>\n",
       "      <td>0.0</td>\n",
       "      <td>4.0</td>\n",
       "      <td>3.0</td>\n",
       "    </tr>\n",
       "    <tr>\n",
       "      <th>5</th>\n",
       "      <td>4.0</td>\n",
       "      <td>5.0</td>\n",
       "      <td>6.0</td>\n",
       "      <td>2.0</td>\n",
       "      <td>2.0</td>\n",
       "      <td>0.0</td>\n",
       "      <td>0.0</td>\n",
       "      <td>4.0</td>\n",
       "      <td>4.0</td>\n",
       "      <td>1.0</td>\n",
       "      <td>...</td>\n",
       "      <td>0</td>\n",
       "      <td>0</td>\n",
       "      <td>0</td>\n",
       "      <td>0</td>\n",
       "      <td>0</td>\n",
       "      <td>0</td>\n",
       "      <td>2.0</td>\n",
       "      <td>0.0</td>\n",
       "      <td>5.0</td>\n",
       "      <td>4.0</td>\n",
       "    </tr>\n",
       "  </tbody>\n",
       "</table>\n",
       "<p>5 rows × 192 columns</p>\n",
       "</div>"
      ],
      "text/plain": [
       "   KKK  REGIOTYP  W_KEIT_KIND_HH  KBA05_ANTG1  KBA05_ANTG2  KBA05_ANTG3  \\\n",
       "1  2.0       3.0             3.0          0.0          0.0          0.0   \n",
       "2  2.0       2.0             3.0          1.0          3.0          1.0   \n",
       "3  NaN       NaN             NaN          4.0          1.0          0.0   \n",
       "4  3.0       5.0             2.0          1.0          4.0          1.0   \n",
       "5  4.0       5.0             6.0          2.0          2.0          0.0   \n",
       "\n",
       "   KBA05_ANTG4  KBA05_GBZ  MOBI_REGIO  PLZ8_ANTG3     ...      \\\n",
       "1          2.0        1.0         1.0         2.0     ...       \n",
       "2          0.0        3.0         3.0         1.0     ...       \n",
       "3          0.0        4.0         4.0         2.0     ...       \n",
       "4          0.0        3.0         3.0         2.0     ...       \n",
       "5          0.0        4.0         4.0         1.0     ...       \n",
       "\n",
       "   CAMEO_DEU_2015_8D  CAMEO_DEU_2015_9A  CAMEO_DEU_2015_9B  CAMEO_DEU_2015_9C  \\\n",
       "1                  0                  0                  0                  0   \n",
       "2                  0                  0                  0                  0   \n",
       "3                  0                  0                  0                  0   \n",
       "4                  0                  0                  0                  0   \n",
       "5                  0                  0                  0                  0   \n",
       "\n",
       "   CAMEO_DEU_2015_9D  CAMEO_DEU_2015_9E  DECADE  MOVEMENT  WEALTH  LIFE_STAGE  \n",
       "1                  0                  0     6.0       0.0     5.0         1.0  \n",
       "2                  0                  0     6.0       1.0     2.0         4.0  \n",
       "3                  0                  0     4.0       0.0     1.0         2.0  \n",
       "4                  0                  0     4.0       0.0     4.0         3.0  \n",
       "5                  0                  0     2.0       0.0     5.0         4.0  \n",
       "\n",
       "[5 rows x 192 columns]"
      ]
     },
     "execution_count": 98,
     "metadata": {},
     "output_type": "execute_result"
    }
   ],
   "source": [
    "test_df.head()"
   ]
  },
  {
   "cell_type": "markdown",
   "metadata": {},
   "source": [
    "## Step 2: Feature Transformation\n",
    "\n",
    "### Step 2.1: Apply Feature Scaling\n",
    "\n",
    "Before we apply dimensionality reduction techniques to the data, we need to perform feature scaling so that the principal component vectors are not influenced by the natural differences in scale for features. Starting from this part of the project, you'll want to keep an eye on the [API reference page for sklearn](http://scikit-learn.org/stable/modules/classes.html) to help you navigate to all of the classes and functions that you'll need. In this substep, you'll need to check the following:\n",
    "\n",
    "- sklearn requires that data not have missing values in order for its estimators to work properly. So, before applying the scaler to your data, make sure that you've cleaned the DataFrame of the remaining missing values. This can be as simple as just removing all data points with missing data, or applying an [Imputer](https://scikit-learn.org/0.16/modules/generated/sklearn.preprocessing.Imputer.html) to replace all missing values. You might also try a more complicated procedure where you temporarily remove missing values in order to compute the scaling parameters before re-introducing those missing values and applying imputation. Think about how much missing data you have and what possible effects each approach might have on your analysis, and justify your decision in the discussion section below.\n",
    "- For the actual scaling function, a [StandardScaler](http://scikit-learn.org/stable/modules/generated/sklearn.preprocessing.StandardScaler.html) instance is suggested, scaling each feature to mean 0 and standard deviation 1.\n",
    "- For these classes, you can make use of the `.fit_transform()` method to both fit a procedure to the data as well as apply the transformation to the data at the same time. Don't forget to keep the fit sklearn objects handy, since you'll be applying them to the customer demographics data towards the end of the project."
   ]
  },
  {
   "cell_type": "code",
   "execution_count": 41,
   "metadata": {},
   "outputs": [],
   "source": [
    "# If you've not yet cleaned the dataset of all NaN values, then investigate and\n",
    "# do that now.\n",
    "\n",
    "azdias = pd.read_csv(\"Udacity_AZDIAS_Subset.csv\",sep=';')\n",
    "azdias_clean = clean_data(azdias)"
   ]
  },
  {
   "cell_type": "code",
   "execution_count": 42,
   "metadata": {},
   "outputs": [
    {
     "data": {
      "text/plain": [
       "760310"
      ]
     },
     "execution_count": 42,
     "metadata": {},
     "output_type": "execute_result"
    }
   ],
   "source": [
    "azdias_clean.isna().sum().sum()"
   ]
  },
  {
   "cell_type": "code",
   "execution_count": 43,
   "metadata": {},
   "outputs": [],
   "source": [
    "filling_missing = Imputer(strategy='most_frequent')\n",
    "azdias_cleaned_impute = pd.DataFrame(filling_missing.fit_transform(azdias_clean))\n",
    "\n",
    "azdias_cleaned_impute.columns = azdias_clean.columns\n",
    "\n",
    "azdias_cleaned_impute.index = azdias_clean.index\n",
    "\n",
    "azdias_clean = pd.DataFrame(filling_missing.fit_transform(azdias_clean))"
   ]
  },
  {
   "cell_type": "code",
   "execution_count": 44,
   "metadata": {},
   "outputs": [
    {
     "data": {
      "text/plain": [
       "0"
      ]
     },
     "execution_count": 44,
     "metadata": {},
     "output_type": "execute_result"
    }
   ],
   "source": [
    "azdias_clean.isna().sum().sum()"
   ]
  },
  {
   "cell_type": "code",
   "execution_count": 45,
   "metadata": {},
   "outputs": [],
   "source": [
    "# Apply feature scaling to the general population demographics data.\n",
    "\n",
    "from sklearn.preprocessing import StandardScaler\n",
    "ss = StandardScaler()\n",
    "azdias_scaled = ss.fit_transform(azdias_clean)\n"
   ]
  },
  {
   "cell_type": "markdown",
   "metadata": {},
   "source": [
    "### Discussion 2.1: Apply Feature Scaling\n",
    "\n",
    "I first replaced all NaN with the most frequent value. I then scaled all values by using the standard scaler."
   ]
  },
  {
   "cell_type": "markdown",
   "metadata": {},
   "source": [
    "### Step 2.2: Perform Dimensionality Reduction\n",
    "\n",
    "On your scaled data, you are now ready to apply dimensionality reduction techniques.\n",
    "\n",
    "- Use sklearn's [PCA](http://scikit-learn.org/stable/modules/generated/sklearn.decomposition.PCA.html) class to apply principal component analysis on the data, thus finding the vectors of maximal variance in the data. To start, you should not set any parameters (so all components are computed) or set a number of components that is at least half the number of features (so there's enough features to see the general trend in variability).\n",
    "- Check out the ratio of variance explained by each principal component as well as the cumulative variance explained. Try plotting the cumulative or sequential values using matplotlib's [`plot()`](https://matplotlib.org/api/_as_gen/matplotlib.pyplot.plot.html) function. Based on what you find, select a value for the number of transformed features you'll retain for the clustering part of the project.\n",
    "- Once you've made a choice for the number of components to keep, make sure you re-fit a PCA instance to perform the decided-on transformation."
   ]
  },
  {
   "cell_type": "code",
   "execution_count": 46,
   "metadata": {},
   "outputs": [
    {
     "data": {
      "text/plain": [
       "array([[  5.00921474e+00,  -3.68029993e+00,  -3.10413720e+00, ...,\n",
       "         -4.59672168e-14,  -1.03816853e-15,  -1.76660218e-17],\n",
       "       [ -4.42234637e-01,  -6.09175442e-01,  -3.29488157e+00, ...,\n",
       "         -8.22669818e-14,  -8.62754834e-15,  -1.87941276e-17],\n",
       "       [ -4.80183487e+00,   1.61643882e+00,  -1.31683452e+00, ...,\n",
       "         -6.71729037e-14,   4.50199902e-16,  -2.18292508e-17],\n",
       "       ..., \n",
       "       [ -6.91467808e-01,  -3.85168895e+00,  -3.32851916e+00, ...,\n",
       "         -3.90003826e-16,  -1.73109426e-16,   9.34266885e-18],\n",
       "       [  6.35603221e+00,  -4.26535386e+00,   2.80807198e+00, ...,\n",
       "         -3.43916615e-17,  -1.26796198e-16,  -1.48251711e-17],\n",
       "       [  5.76317056e-01,   2.62622289e+00,   2.13317351e+00, ...,\n",
       "          6.64636011e-16,  -1.32119379e-16,  -4.57024870e-18]])"
      ]
     },
     "execution_count": 46,
     "metadata": {},
     "output_type": "execute_result"
    }
   ],
   "source": [
    "# Apply PCA to the data.\n",
    "from sklearn.decomposition import PCA\n",
    "pca_test = PCA()\n",
    "pca_test.fit_transform(azdias_scaled)\n"
   ]
  },
  {
   "cell_type": "code",
   "execution_count": 47,
   "metadata": {},
   "outputs": [
    {
     "name": "stdout",
     "output_type": "stream",
     "text": [
      "[  7.82222172e-02   5.73844041e-02   3.56046674e-02   2.72585356e-02\n",
      "   2.06426474e-02   1.60834746e-02   1.51896750e-02   1.35619132e-02\n",
      "   1.30107436e-02   1.26630254e-02   1.21686466e-02   1.19291892e-02\n",
      "   1.16799160e-02   1.15919763e-02   1.13442480e-02   1.11333348e-02\n",
      "   1.09617418e-02   1.08216177e-02   1.06094109e-02   1.04103413e-02\n",
      "   1.03536039e-02   9.90347131e-03   9.28114160e-03   9.20288301e-03\n",
      "   8.80514175e-03   8.46028336e-03   8.37656990e-03   8.09663080e-03\n",
      "   7.69478717e-03   7.32854220e-03   7.20461774e-03   7.03468600e-03\n",
      "   6.89461846e-03   6.71771498e-03   6.67212066e-03   6.61281421e-03\n",
      "   6.57019850e-03   6.32894472e-03   6.25407942e-03   6.18265588e-03\n",
      "   6.13854082e-03   5.95109518e-03   5.88412285e-03   5.81341376e-03\n",
      "   5.78308221e-03   5.72252451e-03   5.69668452e-03   5.63600479e-03\n",
      "   5.60402970e-03   5.57514734e-03   5.55197417e-03   5.51564827e-03\n",
      "   5.49332920e-03   5.45561785e-03   5.43699567e-03   5.41209544e-03\n",
      "   5.39853599e-03   5.38341767e-03   5.38078175e-03   5.35774821e-03\n",
      "   5.35252426e-03   5.33595928e-03   5.33515063e-03   5.32006769e-03\n",
      "   5.30914562e-03   5.30678137e-03   5.29999161e-03   5.28909151e-03\n",
      "   5.28216701e-03   5.27876958e-03   5.27486360e-03   5.26648505e-03\n",
      "   5.26087970e-03   5.25766640e-03   5.25590163e-03   5.24876574e-03\n",
      "   5.24606453e-03   5.24074358e-03   5.23950915e-03   5.23237998e-03\n",
      "   5.22409737e-03   5.22230256e-03   5.21457277e-03   5.20704833e-03\n",
      "   5.20165936e-03   5.19442643e-03   5.16976706e-03   5.15198727e-03\n",
      "   5.14279106e-03   5.11970006e-03   5.11482163e-03   5.07374253e-03\n",
      "   5.01739397e-03   4.92682261e-03   4.89800618e-03   4.82603627e-03\n",
      "   4.76219041e-03   4.72417485e-03   4.67002058e-03   4.60735222e-03\n",
      "   4.57231463e-03   4.53682750e-03   4.47601358e-03   4.34298963e-03\n",
      "   4.29957185e-03   4.11517664e-03   4.08728678e-03   4.03463451e-03\n",
      "   3.86895583e-03   3.73819458e-03   3.61256875e-03   3.52755629e-03\n",
      "   3.43230934e-03   3.32121758e-03   3.17914639e-03   3.15255289e-03\n",
      "   3.08878015e-03   2.83666764e-03   2.66546451e-03   2.60417880e-03\n",
      "   2.37867072e-03   2.30727704e-03   2.28227979e-03   2.26499290e-03\n",
      "   2.13759857e-03   2.09126624e-03   2.03522985e-03   1.98659290e-03\n",
      "   1.86106007e-03   1.81539734e-03   1.68867637e-03   1.60921403e-03\n",
      "   1.56222052e-03   1.49046057e-03   1.43252960e-03   1.34775967e-03\n",
      "   1.32812320e-03   1.27876383e-03   1.23154802e-03   1.21612271e-03\n",
      "   1.11876537e-03   1.09781344e-03   1.09320041e-03   1.01757875e-03\n",
      "   1.01237732e-03   9.43618466e-04   9.16154548e-04   9.09163402e-04\n",
      "   8.85232582e-04   8.30901097e-04   7.93396524e-04   7.36999068e-04\n",
      "   6.92944189e-04   6.42454246e-04   6.29618553e-04   5.87162761e-04\n",
      "   5.14335926e-04   4.63957728e-04   4.38727978e-04   4.00045862e-04\n",
      "   3.55972624e-04   2.73021834e-04   1.45450187e-04   1.06183682e-04\n",
      "   1.68888718e-05   1.75540892e-26   1.29445256e-26   2.71356181e-27\n",
      "   1.86873743e-27   1.89235917e-28   1.24393276e-28   3.39367413e-29\n",
      "   1.12998875e-29   8.45568641e-30   8.22273171e-30   6.11018436e-30\n",
      "   5.44605298e-30   4.89022899e-30   3.91821846e-30   3.79178598e-30\n",
      "   3.72575879e-30   3.04074654e-30   2.84878404e-30   2.65877592e-30\n",
      "   2.51139423e-30   2.40193998e-30   2.16996841e-30   1.91259814e-30\n",
      "   1.58437796e-30   1.13742426e-30   5.78971073e-31   1.06276774e-33]\n"
     ]
    }
   ],
   "source": [
    "# Investigate the variance accounted for by each principal component.\n",
    "\n",
    "print(pca_test.explained_variance_ratio_)"
   ]
  },
  {
   "cell_type": "code",
   "execution_count": 48,
   "metadata": {},
   "outputs": [
    {
     "data": {
      "image/png": "[encoded data removed]",
      "text/plain": [
       "<matplotlib.figure.Figure at 0x7f8d06ec7cf8>"
      ]
     },
     "metadata": {
      "needs_background": "light"
     },
     "output_type": "display_data"
    }
   ],
   "source": [
    "plt.plot(range(pca_test.explained_variance_ratio_.shape[0]), np.cumsum(pca_test.explained_variance_ratio_))\n",
    "\n",
    "plt.show()"
   ]
  },
  {
   "cell_type": "code",
   "execution_count": 49,
   "metadata": {},
   "outputs": [],
   "source": [
    "# Re-apply PCA to the data while selecting for number of components to retain.\n",
    "pca = PCA(n_components = 100)\n",
    "azdias_pca = pca.fit_transform(azdias_scaled)\n"
   ]
  },
  {
   "cell_type": "code",
   "execution_count": 50,
   "metadata": {},
   "outputs": [
    {
     "data": {
      "text/plain": [
       "(797906, 100)"
      ]
     },
     "execution_count": 50,
     "metadata": {},
     "output_type": "execute_result"
    }
   ],
   "source": [
    "azdias_pca.shape"
   ]
  },
  {
   "cell_type": "markdown",
   "metadata": {},
   "source": [
    "### Discussion 2.2: Perform Dimensionality Reduction\n",
    "\n",
    "Looking at the PCA plot, I decided to 100 components as that would be close to explaining 90% of the variance. "
   ]
  },
  {
   "cell_type": "markdown",
   "metadata": {},
   "source": [
    "### Step 2.3: Interpret Principal Components\n",
    "\n",
    "Now that we have our transformed principal components, it's a nice idea to check out the weight of each variable on the first few components to see if they can be interpreted in some fashion.\n",
    "\n",
    "As a reminder, each principal component is a unit vector that points in the direction of highest variance (after accounting for the variance captured by earlier principal components). The further a weight is from zero, the more the principal component is in the direction of the corresponding feature. If two features have large weights of the same sign (both positive or both negative), then increases in one tend expect to be associated with increases in the other. To contrast, features with different signs can be expected to show a negative correlation: increases in one variable should result in a decrease in the other.\n",
    "\n",
    "- To investigate the features, you should map each weight to their corresponding feature name, then sort the features according to weight. The most interesting features for each principal component, then, will be those at the beginning and end of the sorted list. Use the data dictionary document to help you understand these most prominent features, their relationships, and what a positive or negative value on the principal component might indicate.\n",
    "- You should investigate and interpret feature associations from the first three principal components in this substep. To help facilitate this, you should write a function that you can call at any time to print the sorted list of feature weights, for the *i*-th principal component. This might come in handy in the next step of the project, when you interpret the tendencies of the discovered clusters."
   ]
  },
  {
   "cell_type": "code",
   "execution_count": 51,
   "metadata": {},
   "outputs": [],
   "source": [
    "# Map weights for the first principal component to corresponding feature names\n",
    "# and then print the linked values, sorted by weight.\n",
    "# HINT: Try defining a function here or in a new cell that you can reuse in the\n",
    "# other cells.\n",
    "\n",
    "def PCA_weights(df,pca,n):\n",
    "    weights_df=pd.DataFrame(pca.components_,columns=list(df.columns)).iloc[n]\n",
    "    weights_df.sort_values(ascending=False, inplace=True)\n",
    "    return weights_df"
   ]
  },
  {
   "cell_type": "code",
   "execution_count": 52,
   "metadata": {},
   "outputs": [
    {
     "data": {
      "text/plain": [
       "LP_STATUS_GROB_1.0      0.197370\n",
       "HH_EINKOMMEN_SCORE      0.186374\n",
       "WEALTH                  0.184867\n",
       "PLZ8_ANTG3              0.181310\n",
       "PLZ8_ANTG4              0.174973\n",
       "ORTSGR_KLS9             0.154490\n",
       "EWDICHTE                0.152916\n",
       "FINANZ_HAUSBAUER        0.148419\n",
       "KBA05_ANTG4             0.129446\n",
       "LP_STATUS_FEIN_1.0      0.126247\n",
       "PLZ8_ANTG2              0.124819\n",
       "FINANZ_SPARER           0.120959\n",
       "LP_STATUS_FEIN_2.0      0.119313\n",
       "KBA05_ANTG3             0.117726\n",
       "FINANZTYP_1.0           0.117661\n",
       "ANZ_HAUSHALTE_AKTIV     0.116246\n",
       "CAMEO_DEUG_2015_9       0.114580\n",
       "ARBEIT                  0.113357\n",
       "RELAT_AB                0.107439\n",
       "CAMEO_DEUG_2015_8       0.092545\n",
       "SEMIO_PFLICHT           0.088813\n",
       "LP_FAMILIE_FEIN_1.0     0.086977\n",
       "LP_FAMILIE_GROB_1.0     0.086977\n",
       "SEMIO_REL               0.084253\n",
       "DECADE                  0.083536\n",
       "ZABEOTYP_5.0            0.078644\n",
       "SEMIO_RAT               0.073895\n",
       "GEBAEUDETYP_3.0         0.067753\n",
       "CAMEO_DEU_2015_8A       0.064087\n",
       "SEMIO_TRADV             0.063959\n",
       "                          ...   \n",
       "SEMIO_LUST             -0.053838\n",
       "KBA13_ANZAHL_PKW       -0.058278\n",
       "LP_FAMILIE_GROB_5.0    -0.065379\n",
       "CAMEO_DEUG_2015_3      -0.065699\n",
       "NATIONALITAET_KZ_1.0   -0.069403\n",
       "CAMEO_DEUG_2015_4      -0.072420\n",
       "FINANZTYP_2.0          -0.080542\n",
       "ANZ_PERSONEN           -0.083431\n",
       "GEBAEUDETYP_1.0        -0.089034\n",
       "CAMEO_DEUG_2015_2      -0.089108\n",
       "FINANZ_VORSORGER       -0.089161\n",
       "ALTERSKATEGORIE_GROB   -0.089266\n",
       "BALLRAUM               -0.096317\n",
       "ZABEOTYP_1.0           -0.096372\n",
       "GEBAEUDETYP_RASTER     -0.097309\n",
       "GREEN_AVANTGARDE       -0.106251\n",
       "MOVEMENT               -0.106251\n",
       "LP_STATUS_FEIN_9.0     -0.110067\n",
       "LIFE_STAGE             -0.111258\n",
       "LP_STATUS_GROB_4.0     -0.111814\n",
       "LP_STATUS_GROB_5.0     -0.116313\n",
       "LP_STATUS_FEIN_10.0    -0.116313\n",
       "INNENSTADT             -0.127311\n",
       "PLZ8_GBZ               -0.132621\n",
       "KONSUMNAEHE            -0.136376\n",
       "KBA05_ANTG1            -0.180775\n",
       "KBA05_GBZ              -0.181282\n",
       "PLZ8_ANTG1             -0.182560\n",
       "MOBI_REGIO             -0.188129\n",
       "FINANZ_MINIMALIST      -0.195284\n",
       "Name: 0, Length: 192, dtype: float64"
      ]
     },
     "execution_count": 52,
     "metadata": {},
     "output_type": "execute_result"
    }
   ],
   "source": [
    "azdias_scaled = pd.DataFrame(azdias_scaled, columns = less_25.columns.tolist())\n",
    "PCA_weights(azdias_scaled, pca,0)"
   ]
  },
  {
   "cell_type": "code",
   "execution_count": 53,
   "metadata": {},
   "outputs": [
    {
     "data": {
      "text/plain": [
       "ALTERSKATEGORIE_GROB     0.231179\n",
       "FINANZ_VORSORGER         0.217140\n",
       "ZABEOTYP_3.0             0.200276\n",
       "SEMIO_ERL                0.179613\n",
       "SEMIO_LUST               0.161909\n",
       "RETOURTYP_BK_S           0.154948\n",
       "W_KEIT_KIND_HH           0.123383\n",
       "CJT_GESAMTTYP_2.0        0.107515\n",
       "LP_STATUS_FEIN_1.0       0.101351\n",
       "FINANZTYP_5.0            0.098515\n",
       "FINANZ_HAUSBAUER         0.091536\n",
       "FINANZTYP_2.0            0.089616\n",
       "FINANZ_MINIMALIST        0.082187\n",
       "SEMIO_KRIT               0.073791\n",
       "SHOPPER_TYP_3.0          0.073778\n",
       "CJT_GESAMTTYP_1.0        0.070523\n",
       "PLZ8_ANTG3               0.070229\n",
       "EWDICHTE                 0.069167\n",
       "PLZ8_ANTG4               0.068628\n",
       "ORTSGR_KLS9              0.068060\n",
       "FINANZTYP_6.0            0.067612\n",
       "NATIONALITAET_KZ_1.0     0.065840\n",
       "WEALTH                   0.064330\n",
       "LP_FAMILIE_FEIN_1.0      0.062061\n",
       "LP_FAMILIE_GROB_1.0      0.062061\n",
       "SEMIO_KAEM               0.059610\n",
       "GFK_URLAUBERTYP_4.0      0.059609\n",
       "KBA05_ANTG4              0.056215\n",
       "ARBEIT                   0.053486\n",
       "WOHNDAUER_2008           0.053269\n",
       "                           ...   \n",
       "CJT_GESAMTTYP_4.0       -0.054276\n",
       "INNENSTADT              -0.054879\n",
       "KONSUMNAEHE             -0.055295\n",
       "MOBI_REGIO              -0.056257\n",
       "SEMIO_SOZ               -0.061951\n",
       "ZABEOTYP_1.0            -0.063449\n",
       "KBA05_GBZ               -0.066809\n",
       "ANZ_PERSONEN            -0.068116\n",
       "PLZ8_ANTG1              -0.069525\n",
       "LP_FAMILIE_GROB_4.0     -0.070948\n",
       "GFK_URLAUBERTYP_9.0     -0.073554\n",
       "FINANZTYP_3.0           -0.077755\n",
       "LP_STATUS_FEIN_5.0      -0.082717\n",
       "ZABEOTYP_5.0            -0.087661\n",
       "FINANZTYP_4.0           -0.088519\n",
       "LP_STATUS_FEIN_2.0      -0.090165\n",
       "ZABEOTYP_4.0            -0.105290\n",
       "FINANZTYP_1.0           -0.129270\n",
       "SEMIO_MAT               -0.129340\n",
       "SEMIO_FAM               -0.133710\n",
       "ONLINE_AFFINITAET       -0.163702\n",
       "SEMIO_KULT              -0.164485\n",
       "SEMIO_RAT               -0.166710\n",
       "FINANZ_ANLEGER          -0.202910\n",
       "SEMIO_PFLICHT           -0.204055\n",
       "SEMIO_TRADV             -0.206584\n",
       "SEMIO_REL               -0.213618\n",
       "FINANZ_UNAUFFAELLIGER   -0.214829\n",
       "FINANZ_SPARER           -0.224555\n",
       "DECADE                  -0.229121\n",
       "Name: 1, Length: 192, dtype: float64"
      ]
     },
     "execution_count": 53,
     "metadata": {},
     "output_type": "execute_result"
    }
   ],
   "source": [
    "# Map weights for the second principal component to corresponding feature names\n",
    "# and then print the linked values, sorted by weight.\n",
    "\n",
    "PCA_weights(azdias_scaled, pca,1)"
   ]
  },
  {
   "cell_type": "code",
   "execution_count": 54,
   "metadata": {},
   "outputs": [
    {
     "data": {
      "text/plain": [
       "SEMIO_VERT               0.318774\n",
       "SEMIO_FAM                0.260622\n",
       "SEMIO_SOZ                0.257117\n",
       "SEMIO_KULT               0.251662\n",
       "FINANZTYP_5.0            0.135438\n",
       "FINANZ_MINIMALIST        0.127796\n",
       "SHOPPER_TYP_0.0          0.122547\n",
       "ZABEOTYP_1.0             0.115920\n",
       "SEMIO_REL                0.113113\n",
       "SEMIO_MAT                0.089776\n",
       "RETOURTYP_BK_S           0.074677\n",
       "GREEN_AVANTGARDE         0.074232\n",
       "MOVEMENT                 0.074232\n",
       "ORTSGR_KLS9              0.064278\n",
       "EWDICHTE                 0.064164\n",
       "W_KEIT_KIND_HH           0.061635\n",
       "SHOPPER_TYP_1.0          0.054796\n",
       "LP_STATUS_FEIN_10.0      0.051687\n",
       "LP_STATUS_GROB_5.0       0.051687\n",
       "ZABEOTYP_6.0             0.050125\n",
       "PLZ8_ANTG4               0.050034\n",
       "PLZ8_ANTG3               0.049879\n",
       "FINANZ_VORSORGER         0.046652\n",
       "LP_STATUS_FEIN_3.0       0.045283\n",
       "LP_STATUS_FEIN_1.0       0.044227\n",
       "PLZ8_ANTG2               0.036510\n",
       "RELAT_AB                 0.035892\n",
       "ARBEIT                   0.034550\n",
       "LP_STATUS_GROB_3.0       0.032246\n",
       "GEBAEUDETYP_3.0          0.031126\n",
       "                           ...   \n",
       "GEBAEUDETYP_1.0         -0.030568\n",
       "LP_STATUS_GROB_2.0      -0.030688\n",
       "PLZ8_GBZ                -0.034761\n",
       "HH_EINKOMMEN_SCORE      -0.034768\n",
       "ZABEOTYP_3.0            -0.036400\n",
       "KKK                     -0.038450\n",
       "LP_FAMILIE_FEIN_4.0     -0.039405\n",
       "GEBAEUDETYP_RASTER      -0.041187\n",
       "FINANZ_UNAUFFAELLIGER   -0.046959\n",
       "PLZ8_ANTG1              -0.047783\n",
       "KONSUMNAEHE             -0.049164\n",
       "BALLRAUM                -0.050645\n",
       "SHOPPER_TYP_3.0         -0.052610\n",
       "FINANZ_SPARER           -0.055393\n",
       "LP_FAMILIE_GROB_3.0     -0.055437\n",
       "DECADE                  -0.055502\n",
       "INNENSTADT              -0.057313\n",
       "FINANZ_HAUSBAUER        -0.059197\n",
       "ZABEOTYP_4.0            -0.063936\n",
       "LP_STATUS_FEIN_4.0      -0.070919\n",
       "LP_STATUS_FEIN_2.0      -0.078785\n",
       "SHOPPER_TYP_2.0         -0.092681\n",
       "FINANZTYP_1.0           -0.099872\n",
       "FINANZ_ANLEGER          -0.153351\n",
       "SEMIO_RAT               -0.154170\n",
       "SEMIO_ERL               -0.208254\n",
       "SEMIO_KRIT              -0.267097\n",
       "SEMIO_DOM               -0.283650\n",
       "SEMIO_KAEM              -0.314767\n",
       "ANREDE_KZ               -0.344745\n",
       "Name: 2, Length: 192, dtype: float64"
      ]
     },
     "execution_count": 54,
     "metadata": {},
     "output_type": "execute_result"
    }
   ],
   "source": [
    "# Map weights for the third principal component to corresponding feature names\n",
    "# and then print the linked values, sorted by weight.\n",
    "PCA_weights(azdias_scaled, pca,2)"
   ]
  },
  {
   "cell_type": "markdown",
   "metadata": {},
   "source": [
    "### Discussion 2.3: Interpret Principal Components\n",
    "\n",
    "* The first  component has a positive association with:\n",
    "\n",
    "PLZ8_ANTG3 -- Number of 6-10 family houses in the PLZ8 region,\n",
    "PLZ8_ANTG4 -- Number of 10+ family houses in the PLZ8 region,\n",
    "CAMEO_INTL_2015_wealth -- German CAMEO wealth.\n",
    "\n",
    "* The second  component has a strong positive association with:\n",
    "\n",
    "ALTERSKATEGORIE_GROB -- Estimated age based on given name analysis,\n",
    "SEMIO_ERL -- Personality typology, event-oriented,\n",
    "FINANZ_VORSORGER -- Financial typology, be prepared.\n",
    "\n",
    "* The third  component has a strong positive association with:\n",
    "\n",
    "SEMIO_VERT -- Personality typology, dreamful,\n",
    "SEMIO_SOZ -- Personality typology, socially-minded,\n",
    "SEMIO_FAM -- Personality typology, family-minded.\n"
   ]
  },
  {
   "cell_type": "markdown",
   "metadata": {},
   "source": [
    "## Step 3: Clustering\n",
    "\n",
    "### Step 3.1: Apply Clustering to General Population\n",
    "\n",
    "You've assessed and cleaned the demographics data, then scaled and transformed them. Now, it's time to see how the data clusters in the principal components space. In this substep, you will apply k-means clustering to the dataset and use the average within-cluster distances from each point to their assigned cluster's centroid to decide on a number of clusters to keep.\n",
    "\n",
    "- Use sklearn's [KMeans](http://scikit-learn.org/stable/modules/generated/sklearn.cluster.KMeans.html#sklearn.cluster.KMeans) class to perform k-means clustering on the PCA-transformed data.\n",
    "- Then, compute the average difference from each point to its assigned cluster's center. **Hint**: The KMeans object's `.score()` method might be useful here, but note that in sklearn, scores tend to be defined so that larger is better. Try applying it to a small, toy dataset, or use an internet search to help your understanding.\n",
    "- Perform the above two steps for a number of different cluster counts. You can then see how the average distance decreases with an increasing number of clusters. However, each additional cluster provides a smaller net benefit. Use this fact to select a final number of clusters in which to group the data. **Warning**: because of the large size of the dataset, it can take a long time for the algorithm to resolve. The more clusters to fit, the longer the algorithm will take. You should test for cluster counts through at least 10 clusters to get the full picture, but you shouldn't need to test for a number of clusters above about 30.\n",
    "- Once you've selected a final number of clusters to use, re-fit a KMeans instance to perform the clustering operation. Make sure that you also obtain the cluster assignments for the general demographics data, since you'll be using them in the final Step 3.3."
   ]
  },
  {
   "cell_type": "code",
   "execution_count": 55,
   "metadata": {},
   "outputs": [],
   "source": [
    "# Over a number of different cluster counts...\n",
    "\n",
    "\n",
    "    # run k-means clustering on the data and...\n",
    "    \n",
    "    \n",
    "    # compute the average within-cluster distances.\n",
    "from sklearn.cluster import KMeans   \n",
    "clusters = [2, 4, 6, 8, 10, 12, 14, 16, 18, 20]\n",
    "scores = []\n",
    "for cluster in clusters:\n",
    "    kmeans = KMeans(n_clusters = cluster)\n",
    "    model = kmeans.fit(azdias_pca)\n",
    "    score = np.abs(model.score(azdias_pca))\n",
    "    scores.append(score)\n",
    "    "
   ]
  },
  {
   "cell_type": "code",
   "execution_count": 56,
   "metadata": {},
   "outputs": [
    {
     "data": {
      "image/png": "[encoded data removed]",
      "text/plain": [
       "<matplotlib.figure.Figure at 0x7f8d06ea1f28>"
      ]
     },
     "metadata": {
      "needs_background": "light"
     },
     "output_type": "display_data"
    }
   ],
   "source": [
    "# Investigate the change in within-cluster distance across number of clusters.\n",
    "# HINT: Use matplotlib's plot function to visualize this relationship.\n",
    "plt.plot(clusters, scores, marker = 'o', color = 'purple')\n",
    "plt.xlabel('Number of Clusters')\n",
    "plt.ylabel('Score')\n",
    "plt.show()\n"
   ]
  },
  {
   "cell_type": "code",
   "execution_count": 57,
   "metadata": {},
   "outputs": [],
   "source": [
    "# Re-fit the k-means model with the selected number of clusters and obtain\n",
    "# cluster predictions for the general population demographics data.\n",
    "\n",
    "kmeans = KMeans(n_clusters = 10)\n",
    "model = kmeans.fit(azdias_pca)\n",
    "predections_azdias_data = model.predict(azdias_pca)"
   ]
  },
  {
   "cell_type": "markdown",
   "metadata": {},
   "source": [
    "### Discussion 3.1: Apply Clustering to General Population\n",
    "\n",
    "Using the elbow method, I decided to use 10 clusters."
   ]
  },
  {
   "cell_type": "markdown",
   "metadata": {},
   "source": [
    "### Step 3.2: Apply All Steps to the Customer Data\n",
    "\n",
    "Now that you have clusters and cluster centers for the general population, it's time to see how the customer data maps on to those clusters. Take care to not confuse this for re-fitting all of the models to the customer data. Instead, you're going to use the fits from the general population to clean, transform, and cluster the customer data. In the last step of the project, you will interpret how the general population fits apply to the customer data.\n",
    "\n",
    "- Don't forget when loading in the customers data, that it is semicolon (`;`) delimited.\n",
    "- Apply the same feature wrangling, selection, and engineering steps to the customer demographics using the `clean_data()` function you created earlier. (You can assume that the customer demographics data has similar meaning behind missing data patterns as the general demographics data.)\n",
    "- Use the sklearn objects from the general demographics data, and apply their transformations to the customers data. That is, you should not be using a `.fit()` or `.fit_transform()` method to re-fit the old objects, nor should you be creating new sklearn objects! Carry the data through the feature scaling, PCA, and clustering steps, obtaining cluster assignments for all of the data in the customer demographics data."
   ]
  },
  {
   "cell_type": "code",
   "execution_count": 100,
   "metadata": {},
   "outputs": [
    {
     "data": {
      "text/html": [
       "<div>\n",
       "<style scoped>\n",
       "    .dataframe tbody tr th:only-of-type {\n",
       "        vertical-align: middle;\n",
       "    }\n",
       "\n",
       "    .dataframe tbody tr th {\n",
       "        vertical-align: top;\n",
       "    }\n",
       "\n",
       "    .dataframe thead th {\n",
       "        text-align: right;\n",
       "    }\n",
       "</style>\n",
       "<table border=\"1\" class=\"dataframe\">\n",
       "  <thead>\n",
       "    <tr style=\"text-align: right;\">\n",
       "      <th></th>\n",
       "      <th>AGER_TYP</th>\n",
       "      <th>ALTERSKATEGORIE_GROB</th>\n",
       "      <th>ANREDE_KZ</th>\n",
       "      <th>CJT_GESAMTTYP</th>\n",
       "      <th>FINANZ_MINIMALIST</th>\n",
       "      <th>FINANZ_SPARER</th>\n",
       "      <th>FINANZ_VORSORGER</th>\n",
       "      <th>FINANZ_ANLEGER</th>\n",
       "      <th>FINANZ_UNAUFFAELLIGER</th>\n",
       "      <th>FINANZ_HAUSBAUER</th>\n",
       "      <th>...</th>\n",
       "      <th>PLZ8_ANTG1</th>\n",
       "      <th>PLZ8_ANTG2</th>\n",
       "      <th>PLZ8_ANTG3</th>\n",
       "      <th>PLZ8_ANTG4</th>\n",
       "      <th>PLZ8_BAUMAX</th>\n",
       "      <th>PLZ8_HHZ</th>\n",
       "      <th>PLZ8_GBZ</th>\n",
       "      <th>ARBEIT</th>\n",
       "      <th>ORTSGR_KLS9</th>\n",
       "      <th>RELAT_AB</th>\n",
       "    </tr>\n",
       "  </thead>\n",
       "  <tbody>\n",
       "    <tr>\n",
       "      <th>0</th>\n",
       "      <td>2</td>\n",
       "      <td>4</td>\n",
       "      <td>1</td>\n",
       "      <td>5.0</td>\n",
       "      <td>5</td>\n",
       "      <td>1</td>\n",
       "      <td>5</td>\n",
       "      <td>1</td>\n",
       "      <td>2</td>\n",
       "      <td>2</td>\n",
       "      <td>...</td>\n",
       "      <td>3.0</td>\n",
       "      <td>3.0</td>\n",
       "      <td>1.0</td>\n",
       "      <td>0.0</td>\n",
       "      <td>1.0</td>\n",
       "      <td>5.0</td>\n",
       "      <td>5.0</td>\n",
       "      <td>1.0</td>\n",
       "      <td>2.0</td>\n",
       "      <td>1.0</td>\n",
       "    </tr>\n",
       "    <tr>\n",
       "      <th>1</th>\n",
       "      <td>-1</td>\n",
       "      <td>4</td>\n",
       "      <td>1</td>\n",
       "      <td>NaN</td>\n",
       "      <td>5</td>\n",
       "      <td>1</td>\n",
       "      <td>5</td>\n",
       "      <td>1</td>\n",
       "      <td>3</td>\n",
       "      <td>2</td>\n",
       "      <td>...</td>\n",
       "      <td>NaN</td>\n",
       "      <td>NaN</td>\n",
       "      <td>NaN</td>\n",
       "      <td>NaN</td>\n",
       "      <td>NaN</td>\n",
       "      <td>NaN</td>\n",
       "      <td>NaN</td>\n",
       "      <td>NaN</td>\n",
       "      <td>NaN</td>\n",
       "      <td>NaN</td>\n",
       "    </tr>\n",
       "    <tr>\n",
       "      <th>2</th>\n",
       "      <td>-1</td>\n",
       "      <td>4</td>\n",
       "      <td>2</td>\n",
       "      <td>2.0</td>\n",
       "      <td>5</td>\n",
       "      <td>1</td>\n",
       "      <td>5</td>\n",
       "      <td>1</td>\n",
       "      <td>4</td>\n",
       "      <td>4</td>\n",
       "      <td>...</td>\n",
       "      <td>2.0</td>\n",
       "      <td>3.0</td>\n",
       "      <td>3.0</td>\n",
       "      <td>1.0</td>\n",
       "      <td>3.0</td>\n",
       "      <td>3.0</td>\n",
       "      <td>2.0</td>\n",
       "      <td>3.0</td>\n",
       "      <td>5.0</td>\n",
       "      <td>3.0</td>\n",
       "    </tr>\n",
       "    <tr>\n",
       "      <th>3</th>\n",
       "      <td>1</td>\n",
       "      <td>4</td>\n",
       "      <td>1</td>\n",
       "      <td>2.0</td>\n",
       "      <td>5</td>\n",
       "      <td>1</td>\n",
       "      <td>5</td>\n",
       "      <td>2</td>\n",
       "      <td>1</td>\n",
       "      <td>2</td>\n",
       "      <td>...</td>\n",
       "      <td>3.0</td>\n",
       "      <td>2.0</td>\n",
       "      <td>1.0</td>\n",
       "      <td>0.0</td>\n",
       "      <td>1.0</td>\n",
       "      <td>3.0</td>\n",
       "      <td>4.0</td>\n",
       "      <td>1.0</td>\n",
       "      <td>3.0</td>\n",
       "      <td>1.0</td>\n",
       "    </tr>\n",
       "    <tr>\n",
       "      <th>4</th>\n",
       "      <td>-1</td>\n",
       "      <td>3</td>\n",
       "      <td>1</td>\n",
       "      <td>6.0</td>\n",
       "      <td>3</td>\n",
       "      <td>1</td>\n",
       "      <td>4</td>\n",
       "      <td>4</td>\n",
       "      <td>5</td>\n",
       "      <td>2</td>\n",
       "      <td>...</td>\n",
       "      <td>2.0</td>\n",
       "      <td>4.0</td>\n",
       "      <td>2.0</td>\n",
       "      <td>1.0</td>\n",
       "      <td>2.0</td>\n",
       "      <td>3.0</td>\n",
       "      <td>3.0</td>\n",
       "      <td>3.0</td>\n",
       "      <td>5.0</td>\n",
       "      <td>1.0</td>\n",
       "    </tr>\n",
       "  </tbody>\n",
       "</table>\n",
       "<p>5 rows × 85 columns</p>\n",
       "</div>"
      ],
      "text/plain": [
       "   AGER_TYP  ALTERSKATEGORIE_GROB  ANREDE_KZ  CJT_GESAMTTYP  \\\n",
       "0         2                     4          1            5.0   \n",
       "1        -1                     4          1            NaN   \n",
       "2        -1                     4          2            2.0   \n",
       "3         1                     4          1            2.0   \n",
       "4        -1                     3          1            6.0   \n",
       "\n",
       "   FINANZ_MINIMALIST  FINANZ_SPARER  FINANZ_VORSORGER  FINANZ_ANLEGER  \\\n",
       "0                  5              1                 5               1   \n",
       "1                  5              1                 5               1   \n",
       "2                  5              1                 5               1   \n",
       "3                  5              1                 5               2   \n",
       "4                  3              1                 4               4   \n",
       "\n",
       "   FINANZ_UNAUFFAELLIGER  FINANZ_HAUSBAUER    ...     PLZ8_ANTG1  PLZ8_ANTG2  \\\n",
       "0                      2                 2    ...            3.0         3.0   \n",
       "1                      3                 2    ...            NaN         NaN   \n",
       "2                      4                 4    ...            2.0         3.0   \n",
       "3                      1                 2    ...            3.0         2.0   \n",
       "4                      5                 2    ...            2.0         4.0   \n",
       "\n",
       "   PLZ8_ANTG3  PLZ8_ANTG4  PLZ8_BAUMAX  PLZ8_HHZ  PLZ8_GBZ  ARBEIT  \\\n",
       "0         1.0         0.0          1.0       5.0       5.0     1.0   \n",
       "1         NaN         NaN          NaN       NaN       NaN     NaN   \n",
       "2         3.0         1.0          3.0       3.0       2.0     3.0   \n",
       "3         1.0         0.0          1.0       3.0       4.0     1.0   \n",
       "4         2.0         1.0          2.0       3.0       3.0     3.0   \n",
       "\n",
       "   ORTSGR_KLS9  RELAT_AB  \n",
       "0          2.0       1.0  \n",
       "1          NaN       NaN  \n",
       "2          5.0       3.0  \n",
       "3          3.0       1.0  \n",
       "4          5.0       1.0  \n",
       "\n",
       "[5 rows x 85 columns]"
      ]
     },
     "metadata": {},
     "output_type": "display_data"
    }
   ],
   "source": [
    "# Load in the customer demographics data.\n",
    "customers = pd.read_csv('Udacity_CUSTOMERS_Subset.csv', delimiter = ';')\n",
    "display(customers.head())"
   ]
  },
  {
   "cell_type": "code",
   "execution_count": 102,
   "metadata": {},
   "outputs": [
    {
     "ename": "KeyError",
     "evalue": "'PRAEGENDE_JUGENDJAHRE'",
     "output_type": "error",
     "traceback": [
      "\u001b[0;31m---------------------------------------------------------------------------\u001b[0m",
      "\u001b[0;31mKeyError\u001b[0m                                  Traceback (most recent call last)",
      "\u001b[0;32m/opt/conda/lib/python3.6/site-packages/pandas/core/indexes/base.py\u001b[0m in \u001b[0;36mget_loc\u001b[0;34m(self, key, method, tolerance)\u001b[0m\n\u001b[1;32m   3077\u001b[0m             \u001b[0;32mtry\u001b[0m\u001b[0;34m:\u001b[0m\u001b[0;34m\u001b[0m\u001b[0m\n\u001b[0;32m-> 3078\u001b[0;31m                 \u001b[0;32mreturn\u001b[0m \u001b[0mself\u001b[0m\u001b[0;34m.\u001b[0m\u001b[0m_engine\u001b[0m\u001b[0;34m.\u001b[0m\u001b[0mget_loc\u001b[0m\u001b[0;34m(\u001b[0m\u001b[0mkey\u001b[0m\u001b[0;34m)\u001b[0m\u001b[0;34m\u001b[0m\u001b[0m\n\u001b[0m\u001b[1;32m   3079\u001b[0m             \u001b[0;32mexcept\u001b[0m \u001b[0mKeyError\u001b[0m\u001b[0;34m:\u001b[0m\u001b[0;34m\u001b[0m\u001b[0m\n",
      "\u001b[0;32mpandas/_libs/index.pyx\u001b[0m in \u001b[0;36mpandas._libs.index.IndexEngine.get_loc\u001b[0;34m()\u001b[0m\n",
      "\u001b[0;32mpandas/_libs/index.pyx\u001b[0m in \u001b[0;36mpandas._libs.index.IndexEngine.get_loc\u001b[0;34m()\u001b[0m\n",
      "\u001b[0;32mpandas/_libs/hashtable_class_helper.pxi\u001b[0m in \u001b[0;36mpandas._libs.hashtable.PyObjectHashTable.get_item\u001b[0;34m()\u001b[0m\n",
      "\u001b[0;32mpandas/_libs/hashtable_class_helper.pxi\u001b[0m in \u001b[0;36mpandas._libs.hashtable.PyObjectHashTable.get_item\u001b[0;34m()\u001b[0m\n",
      "\u001b[0;31mKeyError\u001b[0m: 'PRAEGENDE_JUGENDJAHRE'",
      "\nDuring handling of the above exception, another exception occurred:\n",
      "\u001b[0;31mKeyError\u001b[0m                                  Traceback (most recent call last)",
      "\u001b[0;32m<ipython-input-102-d93019ded461>\u001b[0m in \u001b[0;36m<module>\u001b[0;34m()\u001b[0m\n\u001b[1;32m      3\u001b[0m \u001b[0;31m# customer demographics data.\u001b[0m\u001b[0;34m\u001b[0m\u001b[0;34m\u001b[0m\u001b[0m\n\u001b[1;32m      4\u001b[0m \u001b[0;34m\u001b[0m\u001b[0m\n\u001b[0;32m----> 5\u001b[0;31m \u001b[0mcustomers\u001b[0m \u001b[0;34m=\u001b[0m \u001b[0mclean_data\u001b[0m\u001b[0;34m(\u001b[0m\u001b[0mcustomers\u001b[0m\u001b[0;34m)\u001b[0m\u001b[0;34m\u001b[0m\u001b[0m\n\u001b[0m",
      "\u001b[0;32m<ipython-input-99-40905fc2f2e0>\u001b[0m in \u001b[0;36mclean_data\u001b[0;34m(df)\u001b[0m\n\u001b[1;32m     57\u001b[0m     \u001b[0mmovement\u001b[0m \u001b[0;34m=\u001b[0m \u001b[0;34m{\u001b[0m\u001b[0;36m1\u001b[0m\u001b[0;34m:\u001b[0m\u001b[0;36m0\u001b[0m\u001b[0;34m,\u001b[0m \u001b[0;36m2\u001b[0m\u001b[0;34m:\u001b[0m\u001b[0;36m1\u001b[0m\u001b[0;34m,\u001b[0m \u001b[0;36m3\u001b[0m\u001b[0;34m:\u001b[0m\u001b[0;36m0\u001b[0m\u001b[0;34m,\u001b[0m \u001b[0;36m4\u001b[0m\u001b[0;34m:\u001b[0m\u001b[0;36m1\u001b[0m\u001b[0;34m,\u001b[0m \u001b[0;36m5\u001b[0m\u001b[0;34m:\u001b[0m\u001b[0;36m0\u001b[0m\u001b[0;34m,\u001b[0m \u001b[0;36m6\u001b[0m\u001b[0;34m:\u001b[0m\u001b[0;36m1\u001b[0m\u001b[0;34m,\u001b[0m \u001b[0;36m7\u001b[0m\u001b[0;34m:\u001b[0m\u001b[0;36m1\u001b[0m\u001b[0;34m,\u001b[0m \u001b[0;36m8\u001b[0m\u001b[0;34m:\u001b[0m\u001b[0;36m0\u001b[0m\u001b[0;34m,\u001b[0m \u001b[0;36m9\u001b[0m\u001b[0;34m:\u001b[0m\u001b[0;36m1\u001b[0m\u001b[0;34m,\u001b[0m \u001b[0;36m10\u001b[0m\u001b[0;34m:\u001b[0m\u001b[0;36m0\u001b[0m\u001b[0;34m,\u001b[0m \u001b[0;36m11\u001b[0m\u001b[0;34m:\u001b[0m\u001b[0;36m1\u001b[0m\u001b[0;34m,\u001b[0m \u001b[0;36m12\u001b[0m\u001b[0;34m:\u001b[0m\u001b[0;36m0\u001b[0m\u001b[0;34m,\u001b[0m \u001b[0;36m13\u001b[0m\u001b[0;34m:\u001b[0m\u001b[0;36m1\u001b[0m\u001b[0;34m,\u001b[0m \u001b[0;36m14\u001b[0m\u001b[0;34m:\u001b[0m\u001b[0;36m0\u001b[0m\u001b[0;34m,\u001b[0m \u001b[0;36m15\u001b[0m\u001b[0;34m:\u001b[0m\u001b[0;36m1\u001b[0m\u001b[0;34m}\u001b[0m\u001b[0;34m\u001b[0m\u001b[0m\n\u001b[1;32m     58\u001b[0m \u001b[0;34m\u001b[0m\u001b[0m\n\u001b[0;32m---> 59\u001b[0;31m     \u001b[0mless_25\u001b[0m\u001b[0;34m[\u001b[0m\u001b[0;34m'DECADE'\u001b[0m\u001b[0;34m]\u001b[0m \u001b[0;34m=\u001b[0m \u001b[0mless_25\u001b[0m\u001b[0;34m[\u001b[0m\u001b[0;34m'PRAEGENDE_JUGENDJAHRE'\u001b[0m\u001b[0;34m]\u001b[0m\u001b[0;34m\u001b[0m\u001b[0m\n\u001b[0m\u001b[1;32m     60\u001b[0m     \u001b[0mless_25\u001b[0m\u001b[0;34m[\u001b[0m\u001b[0;34m'DECADE'\u001b[0m\u001b[0;34m]\u001b[0m\u001b[0;34m.\u001b[0m\u001b[0mreplace\u001b[0m\u001b[0;34m(\u001b[0m\u001b[0mdecade\u001b[0m\u001b[0;34m,\u001b[0m \u001b[0minplace\u001b[0m \u001b[0;34m=\u001b[0m \u001b[0;32mTrue\u001b[0m\u001b[0;34m)\u001b[0m\u001b[0;34m\u001b[0m\u001b[0m\n\u001b[1;32m     61\u001b[0m \u001b[0;34m\u001b[0m\u001b[0m\n",
      "\u001b[0;32m/opt/conda/lib/python3.6/site-packages/pandas/core/frame.py\u001b[0m in \u001b[0;36m__getitem__\u001b[0;34m(self, key)\u001b[0m\n\u001b[1;32m   2686\u001b[0m             \u001b[0;32mreturn\u001b[0m \u001b[0mself\u001b[0m\u001b[0;34m.\u001b[0m\u001b[0m_getitem_multilevel\u001b[0m\u001b[0;34m(\u001b[0m\u001b[0mkey\u001b[0m\u001b[0;34m)\u001b[0m\u001b[0;34m\u001b[0m\u001b[0m\n\u001b[1;32m   2687\u001b[0m         \u001b[0;32melse\u001b[0m\u001b[0;34m:\u001b[0m\u001b[0;34m\u001b[0m\u001b[0m\n\u001b[0;32m-> 2688\u001b[0;31m             \u001b[0;32mreturn\u001b[0m \u001b[0mself\u001b[0m\u001b[0;34m.\u001b[0m\u001b[0m_getitem_column\u001b[0m\u001b[0;34m(\u001b[0m\u001b[0mkey\u001b[0m\u001b[0;34m)\u001b[0m\u001b[0;34m\u001b[0m\u001b[0m\n\u001b[0m\u001b[1;32m   2689\u001b[0m \u001b[0;34m\u001b[0m\u001b[0m\n\u001b[1;32m   2690\u001b[0m     \u001b[0;32mdef\u001b[0m \u001b[0m_getitem_column\u001b[0m\u001b[0;34m(\u001b[0m\u001b[0mself\u001b[0m\u001b[0;34m,\u001b[0m \u001b[0mkey\u001b[0m\u001b[0;34m)\u001b[0m\u001b[0;34m:\u001b[0m\u001b[0;34m\u001b[0m\u001b[0m\n",
      "\u001b[0;32m/opt/conda/lib/python3.6/site-packages/pandas/core/frame.py\u001b[0m in \u001b[0;36m_getitem_column\u001b[0;34m(self, key)\u001b[0m\n\u001b[1;32m   2693\u001b[0m         \u001b[0;31m# get column\u001b[0m\u001b[0;34m\u001b[0m\u001b[0;34m\u001b[0m\u001b[0m\n\u001b[1;32m   2694\u001b[0m         \u001b[0;32mif\u001b[0m \u001b[0mself\u001b[0m\u001b[0;34m.\u001b[0m\u001b[0mcolumns\u001b[0m\u001b[0;34m.\u001b[0m\u001b[0mis_unique\u001b[0m\u001b[0;34m:\u001b[0m\u001b[0;34m\u001b[0m\u001b[0m\n\u001b[0;32m-> 2695\u001b[0;31m             \u001b[0;32mreturn\u001b[0m \u001b[0mself\u001b[0m\u001b[0;34m.\u001b[0m\u001b[0m_get_item_cache\u001b[0m\u001b[0;34m(\u001b[0m\u001b[0mkey\u001b[0m\u001b[0;34m)\u001b[0m\u001b[0;34m\u001b[0m\u001b[0m\n\u001b[0m\u001b[1;32m   2696\u001b[0m \u001b[0;34m\u001b[0m\u001b[0m\n\u001b[1;32m   2697\u001b[0m         \u001b[0;31m# duplicate columns & possible reduce dimensionality\u001b[0m\u001b[0;34m\u001b[0m\u001b[0;34m\u001b[0m\u001b[0m\n",
      "\u001b[0;32m/opt/conda/lib/python3.6/site-packages/pandas/core/generic.py\u001b[0m in \u001b[0;36m_get_item_cache\u001b[0;34m(self, item)\u001b[0m\n\u001b[1;32m   2487\u001b[0m         \u001b[0mres\u001b[0m \u001b[0;34m=\u001b[0m \u001b[0mcache\u001b[0m\u001b[0;34m.\u001b[0m\u001b[0mget\u001b[0m\u001b[0;34m(\u001b[0m\u001b[0mitem\u001b[0m\u001b[0;34m)\u001b[0m\u001b[0;34m\u001b[0m\u001b[0m\n\u001b[1;32m   2488\u001b[0m         \u001b[0;32mif\u001b[0m \u001b[0mres\u001b[0m \u001b[0;32mis\u001b[0m \u001b[0;32mNone\u001b[0m\u001b[0;34m:\u001b[0m\u001b[0;34m\u001b[0m\u001b[0m\n\u001b[0;32m-> 2489\u001b[0;31m             \u001b[0mvalues\u001b[0m \u001b[0;34m=\u001b[0m \u001b[0mself\u001b[0m\u001b[0;34m.\u001b[0m\u001b[0m_data\u001b[0m\u001b[0;34m.\u001b[0m\u001b[0mget\u001b[0m\u001b[0;34m(\u001b[0m\u001b[0mitem\u001b[0m\u001b[0;34m)\u001b[0m\u001b[0;34m\u001b[0m\u001b[0m\n\u001b[0m\u001b[1;32m   2490\u001b[0m             \u001b[0mres\u001b[0m \u001b[0;34m=\u001b[0m \u001b[0mself\u001b[0m\u001b[0;34m.\u001b[0m\u001b[0m_box_item_values\u001b[0m\u001b[0;34m(\u001b[0m\u001b[0mitem\u001b[0m\u001b[0;34m,\u001b[0m \u001b[0mvalues\u001b[0m\u001b[0;34m)\u001b[0m\u001b[0;34m\u001b[0m\u001b[0m\n\u001b[1;32m   2491\u001b[0m             \u001b[0mcache\u001b[0m\u001b[0;34m[\u001b[0m\u001b[0mitem\u001b[0m\u001b[0;34m]\u001b[0m \u001b[0;34m=\u001b[0m \u001b[0mres\u001b[0m\u001b[0;34m\u001b[0m\u001b[0m\n",
      "\u001b[0;32m/opt/conda/lib/python3.6/site-packages/pandas/core/internals.py\u001b[0m in \u001b[0;36mget\u001b[0;34m(self, item, fastpath)\u001b[0m\n\u001b[1;32m   4113\u001b[0m \u001b[0;34m\u001b[0m\u001b[0m\n\u001b[1;32m   4114\u001b[0m             \u001b[0;32mif\u001b[0m \u001b[0;32mnot\u001b[0m \u001b[0misna\u001b[0m\u001b[0;34m(\u001b[0m\u001b[0mitem\u001b[0m\u001b[0;34m)\u001b[0m\u001b[0;34m:\u001b[0m\u001b[0;34m\u001b[0m\u001b[0m\n\u001b[0;32m-> 4115\u001b[0;31m                 \u001b[0mloc\u001b[0m \u001b[0;34m=\u001b[0m \u001b[0mself\u001b[0m\u001b[0;34m.\u001b[0m\u001b[0mitems\u001b[0m\u001b[0;34m.\u001b[0m\u001b[0mget_loc\u001b[0m\u001b[0;34m(\u001b[0m\u001b[0mitem\u001b[0m\u001b[0;34m)\u001b[0m\u001b[0;34m\u001b[0m\u001b[0m\n\u001b[0m\u001b[1;32m   4116\u001b[0m             \u001b[0;32melse\u001b[0m\u001b[0;34m:\u001b[0m\u001b[0;34m\u001b[0m\u001b[0m\n\u001b[1;32m   4117\u001b[0m                 \u001b[0mindexer\u001b[0m \u001b[0;34m=\u001b[0m \u001b[0mnp\u001b[0m\u001b[0;34m.\u001b[0m\u001b[0marange\u001b[0m\u001b[0;34m(\u001b[0m\u001b[0mlen\u001b[0m\u001b[0;34m(\u001b[0m\u001b[0mself\u001b[0m\u001b[0;34m.\u001b[0m\u001b[0mitems\u001b[0m\u001b[0;34m)\u001b[0m\u001b[0;34m)\u001b[0m\u001b[0;34m[\u001b[0m\u001b[0misna\u001b[0m\u001b[0;34m(\u001b[0m\u001b[0mself\u001b[0m\u001b[0;34m.\u001b[0m\u001b[0mitems\u001b[0m\u001b[0;34m)\u001b[0m\u001b[0;34m]\u001b[0m\u001b[0;34m\u001b[0m\u001b[0m\n",
      "\u001b[0;32m/opt/conda/lib/python3.6/site-packages/pandas/core/indexes/base.py\u001b[0m in \u001b[0;36mget_loc\u001b[0;34m(self, key, method, tolerance)\u001b[0m\n\u001b[1;32m   3078\u001b[0m                 \u001b[0;32mreturn\u001b[0m \u001b[0mself\u001b[0m\u001b[0;34m.\u001b[0m\u001b[0m_engine\u001b[0m\u001b[0;34m.\u001b[0m\u001b[0mget_loc\u001b[0m\u001b[0;34m(\u001b[0m\u001b[0mkey\u001b[0m\u001b[0;34m)\u001b[0m\u001b[0;34m\u001b[0m\u001b[0m\n\u001b[1;32m   3079\u001b[0m             \u001b[0;32mexcept\u001b[0m \u001b[0mKeyError\u001b[0m\u001b[0;34m:\u001b[0m\u001b[0;34m\u001b[0m\u001b[0m\n\u001b[0;32m-> 3080\u001b[0;31m                 \u001b[0;32mreturn\u001b[0m \u001b[0mself\u001b[0m\u001b[0;34m.\u001b[0m\u001b[0m_engine\u001b[0m\u001b[0;34m.\u001b[0m\u001b[0mget_loc\u001b[0m\u001b[0;34m(\u001b[0m\u001b[0mself\u001b[0m\u001b[0;34m.\u001b[0m\u001b[0m_maybe_cast_indexer\u001b[0m\u001b[0;34m(\u001b[0m\u001b[0mkey\u001b[0m\u001b[0;34m)\u001b[0m\u001b[0;34m)\u001b[0m\u001b[0;34m\u001b[0m\u001b[0m\n\u001b[0m\u001b[1;32m   3081\u001b[0m \u001b[0;34m\u001b[0m\u001b[0m\n\u001b[1;32m   3082\u001b[0m         \u001b[0mindexer\u001b[0m \u001b[0;34m=\u001b[0m \u001b[0mself\u001b[0m\u001b[0;34m.\u001b[0m\u001b[0mget_indexer\u001b[0m\u001b[0;34m(\u001b[0m\u001b[0;34m[\u001b[0m\u001b[0mkey\u001b[0m\u001b[0;34m]\u001b[0m\u001b[0;34m,\u001b[0m \u001b[0mmethod\u001b[0m\u001b[0;34m=\u001b[0m\u001b[0mmethod\u001b[0m\u001b[0;34m,\u001b[0m \u001b[0mtolerance\u001b[0m\u001b[0;34m=\u001b[0m\u001b[0mtolerance\u001b[0m\u001b[0;34m)\u001b[0m\u001b[0;34m\u001b[0m\u001b[0m\n",
      "\u001b[0;32mpandas/_libs/index.pyx\u001b[0m in \u001b[0;36mpandas._libs.index.IndexEngine.get_loc\u001b[0;34m()\u001b[0m\n",
      "\u001b[0;32mpandas/_libs/index.pyx\u001b[0m in \u001b[0;36mpandas._libs.index.IndexEngine.get_loc\u001b[0;34m()\u001b[0m\n",
      "\u001b[0;32mpandas/_libs/hashtable_class_helper.pxi\u001b[0m in \u001b[0;36mpandas._libs.hashtable.PyObjectHashTable.get_item\u001b[0;34m()\u001b[0m\n",
      "\u001b[0;32mpandas/_libs/hashtable_class_helper.pxi\u001b[0m in \u001b[0;36mpandas._libs.hashtable.PyObjectHashTable.get_item\u001b[0;34m()\u001b[0m\n",
      "\u001b[0;31mKeyError\u001b[0m: 'PRAEGENDE_JUGENDJAHRE'"
     ]
    }
   ],
   "source": [
    "# Apply preprocessing, feature transformation, and clustering from the general\n",
    "# demographics onto the customer data, obtaining cluster predictions for the\n",
    "# customer demographics data.\n",
    "\n",
    "customers = clean_data(customers)"
   ]
  },
  {
   "cell_type": "code",
   "execution_count": null,
   "metadata": {},
   "outputs": [],
   "source": [
    "customers_imputed = filling_missing.transform(customers)\n",
    "\n"
   ]
  },
  {
   "cell_type": "code",
   "execution_count": null,
   "metadata": {},
   "outputs": [],
   "source": [
    "customers = ss.transform(customers_imputed)"
   ]
  },
  {
   "cell_type": "code",
   "execution_count": null,
   "metadata": {},
   "outputs": [],
   "source": [
    "customers_pca = pca.transform(customers)"
   ]
  },
  {
   "cell_type": "code",
   "execution_count": null,
   "metadata": {},
   "outputs": [],
   "source": [
    "customers_predicts = model.predict(customers_pca)"
   ]
  },
  {
   "cell_type": "markdown",
   "metadata": {},
   "source": [
    "### Step 3.3: Compare Customer Data to Demographics Data\n",
    "\n",
    "At this point, you have clustered data based on demographics of the general population of Germany, and seen how the customer data for a mail-order sales company maps onto those demographic clusters. In this final substep, you will compare the two cluster distributions to see where the strongest customer base for the company is.\n",
    "\n",
    "Consider the proportion of persons in each cluster for the general population, and the proportions for the customers. If we think the company's customer base to be universal, then the cluster assignment proportions should be fairly similar between the two. If there are only particular segments of the population that are interested in the company's products, then we should see a mismatch from one to the other. If there is a higher proportion of persons in a cluster for the customer data compared to the general population (e.g. 5% of persons are assigned to a cluster for the general population, but 15% of the customer data is closest to that cluster's centroid) then that suggests the people in that cluster to be a target audience for the company. On the other hand, the proportion of the data in a cluster being larger in the general population than the customer data (e.g. only 2% of customers closest to a population centroid that captures 6% of the data) suggests that group of persons to be outside of the target demographics.\n",
    "\n",
    "Take a look at the following points in this step:\n",
    "\n",
    "- Compute the proportion of data points in each cluster for the general population and the customer data. Visualizations will be useful here: both for the individual dataset proportions, but also to visualize the ratios in cluster representation between groups. Seaborn's [`countplot()`](https://seaborn.pydata.org/generated/seaborn.countplot.html) or [`barplot()`](https://seaborn.pydata.org/generated/seaborn.barplot.html) function could be handy.\n",
    "  - Recall the analysis you performed in step 1.1.3 of the project, where you separated out certain data points from the dataset if they had more than a specified threshold of missing values. If you found that this group was qualitatively different from the main bulk of the data, you should treat this as an additional data cluster in this analysis. Make sure that you account for the number of data points in this subset, for both the general population and customer datasets, when making your computations!\n",
    "- Which cluster or clusters are overrepresented in the customer dataset compared to the general population? Select at least one such cluster and infer what kind of people might be represented by that cluster. Use the principal component interpretations from step 2.3 or look at additional components to help you make this inference. Alternatively, you can use the `.inverse_transform()` method of the PCA and StandardScaler objects to transform centroids back to the original data space and interpret the retrieved values directly.\n",
    "- Perform a similar investigation for the underrepresented clusters. Which cluster or clusters are underrepresented in the customer dataset compared to the general population, and what kinds of people are typified by these clusters?"
   ]
  },
  {
   "cell_type": "code",
   "execution_count": 94,
   "metadata": {},
   "outputs": [
    {
     "data": {
      "image/png": "[encoded data removed]",
      "text/plain": [
       "<matplotlib.figure.Figure at 0x7f8d06fd4d30>"
      ]
     },
     "metadata": {
      "needs_background": "light"
     },
     "output_type": "display_data"
    }
   ],
   "source": [
    "# Compare the proportion of data in each cluster for the customer data to the\n",
    "# proportion of data in each cluster for the general population.\n",
    "\n",
    "fig, (ax1, ax2) = plt.subplots(1, 2)\n",
    "fig.set_figwidth(15)\n",
    "ax1.set_title('General Clusters')\n",
    "sns.countplot(predections_azdias_data ,ax=ax1)\n",
    "\n",
    "ax2.set_title('Customers Clusters')\n",
    "sns.countplot(customers_predicts,ax=ax2)\n",
    "plt.show()"
   ]
  },
  {
   "cell_type": "code",
   "execution_count": null,
   "metadata": {},
   "outputs": [],
   "source": [
    "# What kinds of people are part of a cluster that is overrepresented in the\n",
    "# customer data compared to the general population?\n",
    "\n"
   ]
  },
  {
   "cell_type": "code",
   "execution_count": null,
   "metadata": {},
   "outputs": [],
   "source": [
    "# What kinds of people are part of a cluster that is underrepresented in the\n",
    "# customer data compared to the general population?\n",
    "\n"
   ]
  },
  {
   "cell_type": "markdown",
   "metadata": {},
   "source": [
    "### Discussion 3.3: Compare Customer Data to Demographics Data\n",
    "\n",
    "(Double-click this cell and replace this text with your own text, reporting findings and conclusions from the clustering analysis. Can we describe segments of the population that are relatively popular with the mail-order company, or relatively unpopular with the company?)"
   ]
  },
  {
   "cell_type": "markdown",
   "metadata": {},
   "source": [
    "> Congratulations on making it this far in the project! Before you finish, make sure to check through the entire notebook from top to bottom to make sure that your analysis follows a logical flow and all of your findings are documented in **Discussion** cells. Once you've checked over all of your work, you should export the notebook as an HTML document to submit for evaluation. You can do this from the menu, navigating to **File -> Download as -> HTML (.html)**. You will submit both that document and this notebook for your project submission."
   ]
  },
  {
   "cell_type": "code",
   "execution_count": null,
   "metadata": {},
   "outputs": [],
   "source": []
  }
 ],
 "metadata": {
  "kernelspec": {
   "display_name": "Python 3",
   "language": "python",
   "name": "python3"
  },
  "language_info": {
   "codemirror_mode": {
    "name": "ipython",
    "version": 3
   },
   "file_extension": ".py",
   "mimetype": "text/x-python",
   "name": "python",
   "nbconvert_exporter": "python",
   "pygments_lexer": "ipython3",
   "version": "3.6.3"
  }
 },
 "nbformat": 4,
 "nbformat_minor": 2
}
